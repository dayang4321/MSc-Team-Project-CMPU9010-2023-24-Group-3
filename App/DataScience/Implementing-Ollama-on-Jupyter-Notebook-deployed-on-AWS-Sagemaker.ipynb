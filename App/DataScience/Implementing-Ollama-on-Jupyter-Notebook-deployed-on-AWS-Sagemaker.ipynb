{
 "cells": [
  {
   "cell_type": "code",
   "execution_count": 4,
   "id": "20f835d3",
   "metadata": {},
   "outputs": [
    {
     "name": "stdout",
     "output_type": "stream",
     "text": [
      "  % Total    % Received % Xferd  Average Speed   Time    Time     Time  Current\n",
      "                                 Dload  Upload   Total   Spent    Left  Speed\n",
      "100  7902    0  7902    0     0  28337      0 --:--:-- --:--:-- --:--:-- 28424\n",
      ">>> Downloading ollama...\n",
      "######################################################################## 100.0%###########################            87.4%\n",
      ">>> Installing ollama to /usr/local/bin...\n",
      ">>> Adding current user to ollama group...\n",
      ">>> Creating ollama systemd service...\n",
      ">>> Enabling and starting ollama service...\n",
      ">>> NVIDIA GPU installed.\n"
     ]
    }
   ],
   "source": [
    "# Make sure WSL is running on Windows and Ollama is installed using the shell command below\n",
    "# curl https://ollama.ai/install.sh | sh\n",
    "\n",
    "# After installing ollama run the below command to start the Ollama service on localhost:11434\n",
    "ollama serve"
   ]
  },
  {
   "cell_type": "code",
   "execution_count": 5,
   "metadata": {},
   "outputs": [
    {
     "name": "stdout",
     "output_type": "stream",
     "text": [
      "Collecting langchain\n",
      "  Downloading langchain-0.0.346-py3-none-any.whl (2.0 MB)\n",
      "     ---------------------------------------- 2.0/2.0 MB 1.5 MB/s eta 0:00:00\n",
      "Collecting PyYAML>=5.3\n",
      "  Downloading PyYAML-6.0.1-cp311-cp311-win_amd64.whl (144 kB)\n",
      "     -------------------------------------- 144.7/144.7 kB 1.7 MB/s eta 0:00:00\n",
      "Collecting SQLAlchemy<3,>=1.4\n",
      "  Downloading SQLAlchemy-2.0.23-cp311-cp311-win_amd64.whl (2.1 MB)\n",
      "     ---------------------------------------- 2.1/2.1 MB 979.0 kB/s eta 0:00:00\n",
      "Collecting aiohttp<4.0.0,>=3.8.3\n",
      "  Downloading aiohttp-3.9.1-cp311-cp311-win_amd64.whl (364 kB)\n",
      "     -------------------------------------- 364.8/364.8 kB 2.3 MB/s eta 0:00:00\n",
      "Collecting anyio<4.0\n",
      "  Downloading anyio-3.7.1-py3-none-any.whl (80 kB)\n",
      "     ---------------------------------------- 80.9/80.9 kB 2.3 MB/s eta 0:00:00\n",
      "Collecting dataclasses-json<0.7,>=0.5.7\n",
      "  Downloading dataclasses_json-0.6.3-py3-none-any.whl (28 kB)\n",
      "Collecting jsonpatch<2.0,>=1.33\n",
      "  Downloading jsonpatch-1.33-py2.py3-none-any.whl (12 kB)\n",
      "Collecting langchain-core<0.1,>=0.0.10\n",
      "  Downloading langchain_core-0.0.10-py3-none-any.whl (178 kB)\n",
      "     -------------------------------------- 178.2/178.2 kB 2.7 MB/s eta 0:00:00\n",
      "Collecting langsmith<0.1.0,>=0.0.63\n",
      "  Downloading langsmith-0.0.69-py3-none-any.whl (48 kB)\n",
      "     ---------------------------------------- 48.2/48.2 kB 1.2 MB/s eta 0:00:00\n",
      "Collecting numpy<2,>=1\n",
      "  Downloading numpy-1.26.2-cp311-cp311-win_amd64.whl (15.8 MB)\n",
      "     -------------------------------------- 15.8/15.8 MB 362.5 kB/s eta 0:00:00\n",
      "Collecting pydantic<3,>=1\n",
      "  Downloading pydantic-2.5.2-py3-none-any.whl (381 kB)\n",
      "     -------------------------------------- 381.9/381.9 kB 1.1 MB/s eta 0:00:00\n",
      "Collecting requests<3,>=2\n",
      "  Downloading requests-2.31.0-py3-none-any.whl (62 kB)\n",
      "     ---------------------------------------- 62.6/62.6 kB 1.1 MB/s eta 0:00:00\n",
      "Collecting tenacity<9.0.0,>=8.1.0\n",
      "  Downloading tenacity-8.2.3-py3-none-any.whl (24 kB)\n",
      "Collecting attrs>=17.3.0\n",
      "  Downloading attrs-23.1.0-py3-none-any.whl (61 kB)\n",
      "     ---------------------------------------- 61.2/61.2 kB 3.2 MB/s eta 0:00:00\n",
      "Collecting multidict<7.0,>=4.5\n",
      "  Downloading multidict-6.0.4-cp311-cp311-win_amd64.whl (28 kB)\n",
      "Collecting yarl<2.0,>=1.0\n",
      "  Downloading yarl-1.9.4-cp311-cp311-win_amd64.whl (76 kB)\n",
      "     ---------------------------------------- 76.7/76.7 kB 4.2 MB/s eta 0:00:00\n",
      "Collecting frozenlist>=1.1.1\n",
      "  Downloading frozenlist-1.4.0-cp311-cp311-win_amd64.whl (44 kB)\n",
      "     ---------------------------------------- 44.9/44.9 kB 2.3 MB/s eta 0:00:00\n",
      "Collecting aiosignal>=1.1.2\n",
      "  Downloading aiosignal-1.3.1-py3-none-any.whl (7.6 kB)\n",
      "Collecting idna>=2.8\n",
      "  Downloading idna-3.6-py3-none-any.whl (61 kB)\n",
      "     ---------------------------------------- 61.6/61.6 kB 3.4 MB/s eta 0:00:00\n",
      "Collecting sniffio>=1.1\n",
      "  Downloading sniffio-1.3.0-py3-none-any.whl (10 kB)\n",
      "Collecting marshmallow<4.0.0,>=3.18.0\n",
      "  Downloading marshmallow-3.20.1-py3-none-any.whl (49 kB)\n",
      "     ---------------------------------------- 49.4/49.4 kB 2.4 MB/s eta 0:00:00\n",
      "Collecting typing-inspect<1,>=0.4.0\n",
      "  Downloading typing_inspect-0.9.0-py3-none-any.whl (8.8 kB)\n",
      "Collecting jsonpointer>=1.9\n",
      "  Downloading jsonpointer-2.4-py2.py3-none-any.whl (7.8 kB)\n",
      "Collecting annotated-types>=0.4.0\n",
      "  Downloading annotated_types-0.6.0-py3-none-any.whl (12 kB)\n",
      "Collecting pydantic-core==2.14.5\n",
      "  Downloading pydantic_core-2.14.5-cp311-none-win_amd64.whl (1.9 MB)\n",
      "     ---------------------------------------- 1.9/1.9 MB 2.9 MB/s eta 0:00:00\n",
      "Collecting typing-extensions>=4.6.1\n",
      "  Downloading typing_extensions-4.8.0-py3-none-any.whl (31 kB)\n",
      "Collecting charset-normalizer<4,>=2\n",
      "  Downloading charset_normalizer-3.3.2-cp311-cp311-win_amd64.whl (99 kB)\n",
      "     ---------------------------------------- 99.9/99.9 kB 1.9 MB/s eta 0:00:00\n",
      "Collecting urllib3<3,>=1.21.1\n",
      "  Downloading urllib3-2.1.0-py3-none-any.whl (104 kB)\n",
      "     -------------------------------------- 104.6/104.6 kB 3.0 MB/s eta 0:00:00\n",
      "Collecting certifi>=2017.4.17\n",
      "  Downloading certifi-2023.11.17-py3-none-any.whl (162 kB)\n",
      "     -------------------------------------- 162.5/162.5 kB 2.4 MB/s eta 0:00:00\n",
      "Collecting greenlet!=0.4.17\n",
      "  Downloading greenlet-3.0.1-cp311-cp311-win_amd64.whl (288 kB)\n",
      "     -------------------------------------- 288.4/288.4 kB 1.5 MB/s eta 0:00:00\n",
      "Requirement already satisfied: packaging>=17.0 in c:\\users\\deny\\appdata\\roaming\\python\\python311\\site-packages (from marshmallow<4.0.0,>=3.18.0->dataclasses-json<0.7,>=0.5.7->langchain) (23.2)\n",
      "Collecting mypy-extensions>=0.3.0\n",
      "  Downloading mypy_extensions-1.0.0-py3-none-any.whl (4.7 kB)\n",
      "Installing collected packages: urllib3, typing-extensions, tenacity, sniffio, PyYAML, numpy, mypy-extensions, multidict, marshmallow, jsonpointer, idna, greenlet, frozenlist, charset-normalizer, certifi, attrs, annotated-types, yarl, typing-inspect, SQLAlchemy, requests, pydantic-core, jsonpatch, anyio, aiosignal, pydantic, dataclasses-json, aiohttp, langsmith, langchain-core, langchain\n",
      "Successfully installed PyYAML-6.0.1 SQLAlchemy-2.0.23 aiohttp-3.9.1 aiosignal-1.3.1 annotated-types-0.6.0 anyio-3.7.1 attrs-23.1.0 certifi-2023.11.17 charset-normalizer-3.3.2 dataclasses-json-0.6.3 frozenlist-1.4.0 greenlet-3.0.1 idna-3.6 jsonpatch-1.33 jsonpointer-2.4 langchain-0.0.346 langchain-core-0.0.10 langsmith-0.0.69 marshmallow-3.20.1 multidict-6.0.4 mypy-extensions-1.0.0 numpy-1.26.2 pydantic-2.5.2 pydantic-core-2.14.5 requests-2.31.0 sniffio-1.3.0 tenacity-8.2.3 typing-extensions-4.8.0 typing-inspect-0.9.0 urllib3-2.1.0 yarl-1.9.4\n"
     ]
    },
    {
     "name": "stderr",
     "output_type": "stream",
     "text": [
      "\n",
      "[notice] A new release of pip available: 22.3 -> 23.3.1\n",
      "[notice] To update, run: python.exe -m pip install --upgrade pip\n"
     ]
    }
   ],
   "source": [
    "!pip install langchain"
   ]
  },
  {
   "cell_type": "code",
   "execution_count": 6,
   "metadata": {},
   "outputs": [
    {
     "name": "stdout",
     "output_type": "stream",
     "text": [
      "Requirement already satisfied: pip in c:\\python311\\lib\\site-packages (22.3)\n",
      "Collecting pip\n",
      "  Using cached pip-23.3.1-py3-none-any.whl (2.1 MB)\n",
      "Installing collected packages: pip\n",
      "  Attempting uninstall: pip\n",
      "    Found existing installation: pip 22.3\n",
      "    Uninstalling pip-22.3:\n",
      "      Successfully uninstalled pip-22.3\n",
      "Successfully installed pip-23.3.1\n"
     ]
    }
   ],
   "source": [
    "!python.exe -m pip install --upgrade pip"
   ]
  },
  {
   "cell_type": "code",
   "execution_count": 1,
   "id": "26985246",
   "metadata": {},
   "outputs": [
    {
     "name": "stdout",
     "output_type": "stream",
     "text": [
      "Sure, here are the paragraphs for easier readability:\n",
      "\n",
      "Bananas, one of the world's most beloved fruits, have a rich history and numerous benefits that make them an essential part of many diets globally. Originating from Southeast Asia, bananas were first cultivated in Papua New Guinea. Over centuries, they spread throughout the Philippines, India, and eventually to Africa and the Americas.\n",
      "\n",
      "Nutritionally, bananas are a powerhouse. They are an excellent source of vitamin B6, vitamin C, fiber, potassium, and several antioxidants and phytonutrients. This composition makes bananas particularly beneficial for cardiovascular health, as potassium helps to manage blood pressure levels. The fiber content aids in digestion and can contribute to sustained energy levels, making bananas a popular choice for athletes and active individuals.\n",
      "\n",
      "Furthermore, the presence of tryptophan and vitamin B6 helps in the production of serotonin, potentially impacting mood positively. Bananas are incredibly versatile in the culinary world. They can be eaten raw when ripe, which is when they are sweetest and their texture is soft. In their unripe, green state, bananas are starchy and less sweet, often used in cooking, as in plantains, a staple in many tropical countries' cuisines. Bananas can be baked, fried, blended into smoothies, or used as a sweetening agent in baked goods. Their natural sweetness and moisture also make them a popular ingredient in healthier dessert recipes, where they often substitute for sugar and fats.\n",
      "\n",
      "The global trade of bananas is substantial, highlighting their economic importance. Bananas are among the most consumed fruits in the world and a major export product for several tropical countries. The industry, however, faces challenges such as susceptibility to diseases like Panama disease and Black Sigatoka, which can devastate crops and impact economies reliant on banana exports. Efforts in genetic research and sustainable farming practices are key to addressing these issues, ensuring the fruit's continued availability.\n",
      "\n",
      "Culturally, bananas hold significance in various societies. In many parts of the world, they are a symbol of prosperity and are used in religious ceremonies and festivals. The banana's journey from a wild fruit to a globally consumed staple reflects human agriculture's evolution and our ongoing relationship with the natural world.\n",
      "\n",
      "Environmentally, banana cultivation has both positive and negative impacts. On one hand, banana plants can contribute to soil health and provide a habitat for various wildlife species. On the other hand, large-scale banana farming can lead to deforestation, water pollution, and a decrease in biodiversity due to the use of pesticides and the monoculture practice. Organic and sustainable farming practices are increasingly being adopted to mitigate these environmental concerns."
     ]
    },
    {
     "data": {
      "text/plain": [
       "\"Sure, here are the paragraphs for easier readability:\\n\\nBananas, one of the world's most beloved fruits, have a rich history and numerous benefits that make them an essential part of many diets globally. Originating from Southeast Asia, bananas were first cultivated in Papua New Guinea. Over centuries, they spread throughout the Philippines, India, and eventually to Africa and the Americas.\\n\\nNutritionally, bananas are a powerhouse. They are an excellent source of vitamin B6, vitamin C, fiber, potassium, and several antioxidants and phytonutrients. This composition makes bananas particularly beneficial for cardiovascular health, as potassium helps to manage blood pressure levels. The fiber content aids in digestion and can contribute to sustained energy levels, making bananas a popular choice for athletes and active individuals.\\n\\nFurthermore, the presence of tryptophan and vitamin B6 helps in the production of serotonin, potentially impacting mood positively. Bananas are incredibly versatile in the culinary world. They can be eaten raw when ripe, which is when they are sweetest and their texture is soft. In their unripe, green state, bananas are starchy and less sweet, often used in cooking, as in plantains, a staple in many tropical countries' cuisines. Bananas can be baked, fried, blended into smoothies, or used as a sweetening agent in baked goods. Their natural sweetness and moisture also make them a popular ingredient in healthier dessert recipes, where they often substitute for sugar and fats.\\n\\nThe global trade of bananas is substantial, highlighting their economic importance. Bananas are among the most consumed fruits in the world and a major export product for several tropical countries. The industry, however, faces challenges such as susceptibility to diseases like Panama disease and Black Sigatoka, which can devastate crops and impact economies reliant on banana exports. Efforts in genetic research and sustainable farming practices are key to addressing these issues, ensuring the fruit's continued availability.\\n\\nCulturally, bananas hold significance in various societies. In many parts of the world, they are a symbol of prosperity and are used in religious ceremonies and festivals. The banana's journey from a wild fruit to a globally consumed staple reflects human agriculture's evolution and our ongoing relationship with the natural world.\\n\\nEnvironmentally, banana cultivation has both positive and negative impacts. On one hand, banana plants can contribute to soil health and provide a habitat for various wildlife species. On the other hand, large-scale banana farming can lead to deforestation, water pollution, and a decrease in biodiversity due to the use of pesticides and the monoculture practice. Organic and sustainable farming practices are increasingly being adopted to mitigate these environmental concerns.\""
      ]
     },
     "execution_count": 1,
     "metadata": {},
     "output_type": "execute_result"
    }
   ],
   "source": [
    "# One can use the below curl command to hit the Ollama APIs\n",
    "# curl -X POST http://localhost:11434/api/generate -d '{ \"model\": \"llama2\", \"prompt\": \"Why is the sky blue?\", \"stream\": false, \"raw\": true }'\n",
    "\n",
    "# Another solution to hit the Ollama APIs is to use Python libraries like Langchain to communicate with the Ollama server\n",
    "from langchain.llms import Ollama\n",
    "from langchain.callbacks.manager import CallbackManager\n",
    "from langchain.callbacks.streaming_stdout import StreamingStdOutCallbackHandler\n",
    "\n",
    "llm = Ollama(model=\"llama2\",\n",
    "             callback_manager=CallbackManager([StreamingStdOutCallbackHandler()]))\n",
    "\n",
    "llm(\"Kindly break the following content into smaller paragraphs for easier readability for people with dyslexia and make sure the context does not change. Content: Bananas, one of the world's most beloved fruits, have a rich history and numerous benefits that make them an essential part of many diets globally. Originating from Southeast Asia, bananas are believed to have been first cultivated in Papua New Guinea. Over centuries, they spread throughout the Philippines, India, and eventually to Africa and the Americas. Bananas are unique in their growth pattern; they grow in clusters hanging from the top of the plant, which is often mistaken for a tree but is actually a large herb. The banana plant's structure, with its large, flexible leaves, provides an optimal environment for the fruit to grow and mature. Nutritionally, bananas are a powerhouse. They are an excellent source of vitamin B6, vitamin C, fiber, potassium, and several antioxidants and phytonutrients. This composition makes bananas particularly beneficial for cardiovascular health, as potassium helps to manage blood pressure levels. The fiber content aids in digestion and can contribute to sustained energy levels, making bananas a popular choice for athletes and active individuals. Furthermore, the presence of tryptophan and vitamin B6 helps in the production of serotonin, potentially impacting mood positively. Bananas are incredibly versatile in the culinary world. They can be eaten raw when ripe, which is when they are sweetest and their texture is soft. In their unripe, green state, bananas are starchy and less sweet, often used in cooking, as in plantains, a staple in many tropical countries' cuisines. Bananas can be baked, fried, blended into smoothies, or used as a sweetening agent in baked goods. Their natural sweetness and moisture also make them a popular ingredient in healthier dessert recipes, where they often substitute for sugar and fats. The global trade of bananas is substantial, highlighting their economic importance. Bananas are among the most consumed fruits in the world and a major export product for several tropical countries. The industry, however, faces challenges such as susceptibility to diseases like Panama disease and Black Sigatoka, which can devastate crops and impact economies reliant on banana exports. Efforts in genetic research and sustainable farming practices are key to addressing these issues, ensuring the fruit's continued availability. Environmentally, banana cultivation has both positive and negative impacts. On one hand, banana plants can contribute to soil health and provide a habitat for various wildlife species. On the other hand, large-scale banana farming can lead to deforestation, water pollution, and a decrease in biodiversity due to the use of pesticides and the monoculture practice. Organic and sustainable farming practices are increasingly being adopted to mitigate these environmental concerns. Culturally, bananas hold significance in various societies. In many parts of the world, they are a symbol of prosperity and are used in religious ceremonies and festivals. The banana's journey from a wild fruit to a globally consumed staple reflects human agriculture's evolution and our ongoing relationship with the natural world. As research continues and sustainable practices evolve, the banana remains a fascinating subject in the discourse of global agriculture, nutrition, and environmental sustainability.\")"
   ]
  }
 ],
 "metadata": {
  "kernelspec": {
   "display_name": "Python 3",
   "language": "python",
   "name": "python3"
  },
  "language_info": {
   "codemirror_mode": {
    "name": "ipython",
    "version": 3
   },
   "file_extension": ".py",
   "mimetype": "text/x-python",
   "name": "python",
   "nbconvert_exporter": "python",
   "pygments_lexer": "ipython3",
   "version": "3.11.0"
  }
 },
 "nbformat": 4,
 "nbformat_minor": 5
}
