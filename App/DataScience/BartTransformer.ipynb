{
  "nbformat": 4,
  "nbformat_minor": 0,
  "metadata": {
    "colab": {
      "provenance": []
    },
    "kernelspec": {
      "name": "python3",
      "display_name": "Python 3"
    },
    "language_info": {
      "name": "python"
    }
  },
  "cells": [
    {
      "cell_type": "code",
      "execution_count": null,
      "metadata": {
        "colab": {
          "base_uri": "https://localhost:8080/"
        },
        "id": "0wk_iFz07GIr",
        "outputId": "385b818c-6f9e-4afc-ac9a-a13c6430bc5a"
      },
      "outputs": [
        {
          "output_type": "stream",
          "name": "stdout",
          "text": [
            "Mounted at /content/drive\n"
          ]
        }
      ],
      "source": [
        "from google.colab import drive\n",
        "drive.mount('/content/drive', force_remount=True)"
      ]
    },
    {
      "cell_type": "code",
      "source": [
        "import gdown\n",
        "import os,glob\n",
        "import pandas as pd\n",
        "from keras.utils import to_categorical\n",
        "from scipy import sparse\n",
        "import string\n",
        "import numpy as np\n",
        "import json\n",
        "import pandas as pd\n",
        "import re\n",
        "import string\n",
        "import nltk\n",
        "from nltk.corpus import stopwords\n",
        "from nltk.stem import WordNetLemmatizer\n",
        "from sklearn.model_selection import train_test_split\n",
        "from transformers import BertTokenizer, TFBertModel, TFBertForSequenceClassification\n",
        "import numpy as np\n",
        "from keras.utils import to_categorical\n",
        "from keras.preprocessing.sequence import pad_sequences\n",
        "from keras.layers import Embedding, LSTM, Dense, Dropout,TimeDistributed,Bidirectional\n",
        "from keras.preprocessing.text import Tokenizer\n",
        "from keras.callbacks import EarlyStopping\n",
        "from keras.models import Sequential\n",
        "import keras.utils as ku\n",
        "import tensorflow as tf\n",
        "tf.random.set_seed(2)\n",
        "from numpy.random import seed\n",
        "seed(1)"
      ],
      "metadata": {
        "id": "vKIdY35l7JJG"
      },
      "execution_count": null,
      "outputs": []
    },
    {
      "cell_type": "markdown",
      "metadata": {
        "id": "LtQbvBxDIq4y"
      },
      "source": [
        "This code block is used to mount your Google Drive to the Colab environment. It allows you to access files stored in your Google Drive directly from the Colab notebook. The force_remount=True parameter ensures that the drive is remounted if it was previously mounted during the session. This is useful for ensuring that the latest version of the drive's contents is accessible."
      ]
    },
    {
      "cell_type": "code",
      "execution_count": null,
      "metadata": {
        "colab": {
          "base_uri": "https://localhost:8080/"
        },
        "outputId": "6c72c502-3137-402a-e493-6fafd59f4cc5",
        "id": "8BvGpnYxcAcX"
      },
      "outputs": [
        {
          "output_type": "stream",
          "name": "stdout",
          "text": [
            "Mounted at /content/drive\n"
          ]
        }
      ],
      "source": [
        "from google.colab import drive\n",
        "drive.mount('/content/drive', force_remount=True)"
      ]
    },
    {
      "cell_type": "markdown",
      "metadata": {
        "id": "5TsVvmSjIzYL"
      },
      "source": [
        "This code block imports essential libraries and modules for data processing, machine learning model building, and text analysis. It includes libraries for data manipulation (Pandas), neural network construction (Keras, TensorFlow), natural language processing (NLTK), and various utilities for handling arrays, strings, and file paths. Additionally, it sets the seed for random number generation to ensure reproducibility."
      ]
    },
    {
      "cell_type": "code",
      "execution_count": null,
      "metadata": {
        "id": "iQkYquo-cAcY"
      },
      "outputs": [],
      "source": [
        "import gdown\n",
        "import os,glob\n",
        "import pandas as pd\n",
        "from keras.utils import to_categorical\n",
        "from scipy import sparse\n",
        "import string\n",
        "import numpy as np\n",
        "import json\n",
        "import pandas as pd\n",
        "import re\n",
        "import string\n",
        "import nltk\n",
        "from nltk.corpus import stopwords\n",
        "from nltk.stem import WordNetLemmatizer\n",
        "from sklearn.model_selection import train_test_split\n",
        "import numpy as np\n",
        "from keras.utils import to_categorical\n",
        "from keras.preprocessing.sequence import pad_sequences\n",
        "from keras.layers import Embedding, LSTM, Dense, Dropout\n",
        "from keras.preprocessing.text import Tokenizer\n",
        "from keras.callbacks import EarlyStopping\n",
        "from keras.models import Sequential\n",
        "import keras.utils as ku\n",
        "import tensorflow as tf\n",
        "tf.random.set_seed(2)\n",
        "from numpy.random import seed\n",
        "seed(1)"
      ]
    },
    {
      "cell_type": "code",
      "source": [
        "data_url = \"https://drive.google.com/drive/folders/1_RGwmjvW8p3jHuKqIbbHXdBDuDl2DTjU?usp=drive_link\""
      ],
      "metadata": {
        "id": "HinlvqOH7jv9"
      },
      "execution_count": null,
      "outputs": []
    },
    {
      "cell_type": "code",
      "source": [
        "gdown.download_folder (data_url, quiet=True, use_cookies=False)"
      ],
      "metadata": {
        "colab": {
          "base_uri": "https://localhost:8080/"
        },
        "id": "mBGscuMy7g3F",
        "outputId": "c1bec2a4-c37c-4c44-8965-a9f90a797ece"
      },
      "execution_count": null,
      "outputs": [
        {
          "output_type": "execute_result",
          "data": {
            "text/plain": [
              "['/content/Guardian News Articles/guardian_articles.csv']"
            ]
          },
          "metadata": {},
          "execution_count": 5
        }
      ]
    },
    {
      "cell_type": "code",
      "execution_count": null,
      "metadata": {
        "id": "dmEYcDKJl6Vj"
      },
      "outputs": [],
      "source": [
        "pip install transformers\n"
      ]
    },
    {
      "cell_type": "code",
      "source": [
        "data = pd.read_csv('/content/Guardian News Articles/guardian_articles.csv')\n",
        "\n",
        "# Basic preprocessing\n",
        "data['bodyContent'] = data['bodyContent'].apply(lambda x: '[CLS] ' + x + ' [SEP]')\n",
        "data['webTitle'] = data['webTitle'].apply(lambda x: '[CLS] ' + x + ' [SEP]')\n",
        "\n",
        "# Splitting the dataset\n",
        "train_texts, val_texts, train_labels, val_labels = train_test_split(data['bodyContent'], data['webTitle'], test_size=0.2)\n"
      ],
      "metadata": {
        "id": "vrlju6SKl_X8"
      },
      "execution_count": null,
      "outputs": []
    },
    {
      "cell_type": "code",
      "execution_count": null,
      "metadata": {
        "id": "VgSV__GOoDoR"
      },
      "outputs": [],
      "source": [
        "# data_url = \"something\""
      ]
    },
    {
      "cell_type": "markdown",
      "metadata": {
        "id": "7iMpIeV-K4AZ"
      },
      "source": [
        "This line of code assigns a URL to the variable data_url. The URL points to a Google Drive folder containing the data files needed for the project. The data can be accessed and downloaded using this URL, typically in combination with Google Drive APIs or tools like gdown to facilitate the download process in a programming environment."
      ]
    },
    {
      "cell_type": "code",
      "execution_count": null,
      "metadata": {
        "id": "6E5Wd6Vucoyw"
      },
      "outputs": [],
      "source": [
        "data_url = \"https://drive.google.com/drive/folders/1_RGwmjvW8p3jHuKqIbbHXdBDuDl2DTjU?usp=drive_link\""
      ]
    },
    {
      "cell_type": "markdown",
      "metadata": {
        "id": "xfH94Bm6LFI_"
      },
      "source": [
        "This code uses the gdown library to download an entire folder from Google Drive. The data_url specifies the location of the folder on Google Drive. The quiet=True parameter ensures that the download process runs without printing unnecessary logs, and use_cookies=False indicates that cookies should not be used in the download process. This is a convenient way to programmatically download all files from a shared Google Drive folder directly into the runtime environment."
      ]
    },
    {
      "cell_type": "code",
      "execution_count": null,
      "metadata": {
        "colab": {
          "base_uri": "https://localhost:8080/"
        },
        "outputId": "eb74d815-18bd-4e14-fd8a-a1ed6d0b3bd6",
        "id": "h-bnUFP6coyw"
      },
      "outputs": [
        {
          "output_type": "execute_result",
          "data": {
            "text/plain": [
              "['/content/Guardian News Articles/cleaned_guardian_articles_test.csv',\n",
              " '/content/Guardian News Articles/cleaned_guardian_articles_train.csv',\n",
              " '/content/Guardian News Articles/cleaned_guardian_articles.csv',\n",
              " '/content/Guardian News Articles/guardian_articles.csv']"
            ]
          },
          "metadata": {},
          "execution_count": 4
        }
      ],
      "source": [
        "gdown.download_folder (data_url, quiet=True, use_cookies=False)"
      ]
    },
    {
      "cell_type": "markdown",
      "metadata": {
        "id": "PNwdxLv0LVyC"
      },
      "source": [
        "This code block is responsible for loading and cleaning a dataset. It first reads a CSV file named 'guardian_articles.csv' from the specified directory into a pandas DataFrame called data_sample. After loading the data, it removes rows where values in either the 'webTitle' or 'bodyContent' columns are missing. This cleaning step is crucial to ensure the quality and reliability of the dataset for further processing and analysis."
      ]
    },
    {
      "cell_type": "code",
      "execution_count": null,
      "metadata": {
        "id": "tVIY5vNwBvBW"
      },
      "outputs": [],
      "source": [
        "# # Load dataset\n",
        "# data = pd.read_csv('/content/Guardian News Articles/guardian_articles.csv')\n",
        "\n",
        "# # Using only 10% of the data\n",
        "# # data = data_sample.sample(frac=0.1, random_state=42)\n",
        "\n",
        "# # Drop rows with missing values\n",
        "# data.dropna(subset=['webTitle', 'bodyContent'], inplace=True)"
      ]
    },
    {
      "cell_type": "code",
      "execution_count": null,
      "metadata": {
        "id": "Buk_6FCP-RK6"
      },
      "outputs": [],
      "source": [
        "# Load the cleaned dataset from a CSV file\n",
        "data = pd.read_csv('/content/Guardian News Articles/cleaned_guardian_articles_train.csv')\n",
        "\n",
        "# Drop rows with missing values\n",
        "data.dropna(subset=['webTitle', 'bodyContent','webTitleToken'], inplace=True)"
      ]
    },
    {
      "cell_type": "markdown",
      "metadata": {
        "id": "_G4rUCDFLZoG"
      },
      "source": [
        "This code block sets up the necessary components for advanced text preprocessing. It starts by downloading NLTK datasets for stopwords and WordNet, which are used for text cleaning and normalization. A function clean_text is defined to convert text to lowercase, remove punctuation and numbers, eliminate extra spaces, tokenize, remove stopwords, and apply lemmatization. This function is applied to the 'webTitle' and 'bodyContent' columns of the dataset to clean and preprocess the text. Additionally, special tokens 'starttoken' and 'endtoken' are added to each headline in 'webTitle' to signify the beginning and end, which is a common technique in natural language processing, especially in sequence modeling tasks."
      ]
    },
    {
      "cell_type": "code",
      "execution_count": null,
      "metadata": {
        "colab": {
          "base_uri": "https://localhost:8080/",
          "height": 597
        },
        "id": "rD8BLqU3NXlQ",
        "outputId": "45be812a-3506-4261-a280-ceb77e357805"
      },
      "outputs": [
        {
          "output_type": "execute_result",
          "data": {
            "text/plain": [
              "                                               article_id         sectionName  \\\n",
              "0       world/2016/jan/31/church-christian-british-adu...          World news   \n",
              "1       tv-and-radio/2016/jan/31/war-and-peace-recap-e...  Television & radio   \n",
              "2       sport/2016/jan/31/angelique-kerber-serena-will...               Sport   \n",
              "3       football/2016/jan/31/fulham-call-off-moussa-de...            Football   \n",
              "4          sport/2016/jan/31/kieran-brookes-england-squad               Sport   \n",
              "...                                                   ...                 ...   \n",
              "148719  world/2022/jun/21/marble-head-of-hercules-pull...          World news   \n",
              "148720  music/2022/jun/22/i-got-sick-of-talking-about-...               Music   \n",
              "148721  australia-news/2022/jun/22/the-small-town-with...      Australia news   \n",
              "148722  australia-news/2022/jun/22/power-to-ban-citize...      Australia news   \n",
              "148723  australia-news/2022/jun/22/liberal-mps-say-pet...      Australia news   \n",
              "\n",
              "                                                 webTitle  \\\n",
              "0             half british adult visited church past year   \n",
              "1       war peace recap episode five – hero leech cast...   \n",
              "2       angelique kerber aim dislodge serena williams ...   \n",
              "3       fulham call moussa dembéle’s £m move tottenham...   \n",
              "4       northampton kieran brooke drafted england squa...   \n",
              "...                                                   ...   \n",
              "148719  marble head hercules pulled roman shipwreck si...   \n",
              "148720  ‘i got sick talking myself’ spacey jane back m...   \n",
              "148721   small town big potato inspired global poetry win   \n",
              "148722  power ban citizen entering australia questione...   \n",
              "148723  liberal mp say peter dutton let party room dec...   \n",
              "\n",
              "                                                   webUrl  \\\n",
              "0       https://www.theguardian.com/world/2016/jan/31/...   \n",
              "1       https://www.theguardian.com/tv-and-radio/2016/...   \n",
              "2       https://www.theguardian.com/sport/2016/jan/31/...   \n",
              "3       https://www.theguardian.com/football/2016/jan/...   \n",
              "4       https://www.theguardian.com/sport/2016/jan/31/...   \n",
              "...                                                   ...   \n",
              "148719  https://www.theguardian.com/world/2022/jun/21/...   \n",
              "148720  https://www.theguardian.com/music/2022/jun/22/...   \n",
              "148721  https://www.theguardian.com/australia-news/202...   \n",
              "148722  https://www.theguardian.com/australia-news/202...   \n",
              "148723  https://www.theguardian.com/australia-news/202...   \n",
              "\n",
              "                                              bodyContent  \\\n",
              "0       half british adult visited church past year de...   \n",
              "1       ‘strange thing turn sometimes …’ pierre get aw...   \n",
              "2       gone midnight angelique kerber conducting yet ...   \n",
              "3       fulham angrily called moussa dembélé’s propose...   \n",
              "4       england drafted northampton prop kieran brooke...   \n",
              "...                                                   ...   \n",
              "148719  archaeologist it’s underwater find keep giving...   \n",
              "148720  mop curl caleb harper – spacey jane frontman g...   \n",
              "148721  robertson small pretty town perched edge new s...   \n",
              "148722  high court decision striking home affair minis...   \n",
              "148723  liberal mp urging peter dutton let party room ...   \n",
              "\n",
              "          webPublicationDate        id  \\\n",
              "0       2016-01-31T22:00:09Z      21.0   \n",
              "1       2016-01-31T22:00:09Z      22.0   \n",
              "2       2016-01-31T21:59:09Z      23.0   \n",
              "3       2016-01-31T21:56:54Z      24.0   \n",
              "4       2016-01-31T21:52:14Z      25.0   \n",
              "...                      ...       ...   \n",
              "148719  2022-06-21T17:31:32Z  149835.0   \n",
              "148720  2022-06-21T17:30:09Z  149836.0   \n",
              "148721  2022-06-21T17:30:09Z  149837.0   \n",
              "148722  2022-06-21T17:30:08Z  149838.0   \n",
              "148723  2022-06-21T17:30:08Z  149839.0   \n",
              "\n",
              "                                            webTitleToken  \n",
              "0       starttoken half british adult visited church p...  \n",
              "1       starttoken war peace recap episode five – hero...  \n",
              "2       starttoken angelique kerber aim dislodge seren...  \n",
              "3       starttoken fulham call moussa dembéle’s £m mov...  \n",
              "4       starttoken northampton kieran brooke drafted e...  \n",
              "...                                                   ...  \n",
              "148719  starttoken marble head hercules pulled roman s...  \n",
              "148720  starttoken ‘i got sick talking myself’ spacey ...  \n",
              "148721  starttoken small town big potato inspired glob...  \n",
              "148722  starttoken power ban citizen entering australi...  \n",
              "148723  starttoken liberal mp say peter dutton let par...  \n",
              "\n",
              "[148695 rows x 8 columns]"
            ],
            "text/html": [
              "\n",
              "  <div id=\"df-be491a0e-375a-4628-9304-48ce9423e114\" class=\"colab-df-container\">\n",
              "    <div>\n",
              "<style scoped>\n",
              "    .dataframe tbody tr th:only-of-type {\n",
              "        vertical-align: middle;\n",
              "    }\n",
              "\n",
              "    .dataframe tbody tr th {\n",
              "        vertical-align: top;\n",
              "    }\n",
              "\n",
              "    .dataframe thead th {\n",
              "        text-align: right;\n",
              "    }\n",
              "</style>\n",
              "<table border=\"1\" class=\"dataframe\">\n",
              "  <thead>\n",
              "    <tr style=\"text-align: right;\">\n",
              "      <th></th>\n",
              "      <th>article_id</th>\n",
              "      <th>sectionName</th>\n",
              "      <th>webTitle</th>\n",
              "      <th>webUrl</th>\n",
              "      <th>bodyContent</th>\n",
              "      <th>webPublicationDate</th>\n",
              "      <th>id</th>\n",
              "      <th>webTitleToken</th>\n",
              "    </tr>\n",
              "  </thead>\n",
              "  <tbody>\n",
              "    <tr>\n",
              "      <th>0</th>\n",
              "      <td>world/2016/jan/31/church-christian-british-adu...</td>\n",
              "      <td>World news</td>\n",
              "      <td>half british adult visited church past year</td>\n",
              "      <td>https://www.theguardian.com/world/2016/jan/31/...</td>\n",
              "      <td>half british adult visited church past year de...</td>\n",
              "      <td>2016-01-31T22:00:09Z</td>\n",
              "      <td>21.0</td>\n",
              "      <td>starttoken half british adult visited church p...</td>\n",
              "    </tr>\n",
              "    <tr>\n",
              "      <th>1</th>\n",
              "      <td>tv-and-radio/2016/jan/31/war-and-peace-recap-e...</td>\n",
              "      <td>Television &amp; radio</td>\n",
              "      <td>war peace recap episode five – hero leech cast...</td>\n",
              "      <td>https://www.theguardian.com/tv-and-radio/2016/...</td>\n",
              "      <td>‘strange thing turn sometimes …’ pierre get aw...</td>\n",
              "      <td>2016-01-31T22:00:09Z</td>\n",
              "      <td>22.0</td>\n",
              "      <td>starttoken war peace recap episode five – hero...</td>\n",
              "    </tr>\n",
              "    <tr>\n",
              "      <th>2</th>\n",
              "      <td>sport/2016/jan/31/angelique-kerber-serena-will...</td>\n",
              "      <td>Sport</td>\n",
              "      <td>angelique kerber aim dislodge serena williams ...</td>\n",
              "      <td>https://www.theguardian.com/sport/2016/jan/31/...</td>\n",
              "      <td>gone midnight angelique kerber conducting yet ...</td>\n",
              "      <td>2016-01-31T21:59:09Z</td>\n",
              "      <td>23.0</td>\n",
              "      <td>starttoken angelique kerber aim dislodge seren...</td>\n",
              "    </tr>\n",
              "    <tr>\n",
              "      <th>3</th>\n",
              "      <td>football/2016/jan/31/fulham-call-off-moussa-de...</td>\n",
              "      <td>Football</td>\n",
              "      <td>fulham call moussa dembéle’s £m move tottenham...</td>\n",
              "      <td>https://www.theguardian.com/football/2016/jan/...</td>\n",
              "      <td>fulham angrily called moussa dembélé’s propose...</td>\n",
              "      <td>2016-01-31T21:56:54Z</td>\n",
              "      <td>24.0</td>\n",
              "      <td>starttoken fulham call moussa dembéle’s £m mov...</td>\n",
              "    </tr>\n",
              "    <tr>\n",
              "      <th>4</th>\n",
              "      <td>sport/2016/jan/31/kieran-brookes-england-squad</td>\n",
              "      <td>Sport</td>\n",
              "      <td>northampton kieran brooke drafted england squa...</td>\n",
              "      <td>https://www.theguardian.com/sport/2016/jan/31/...</td>\n",
              "      <td>england drafted northampton prop kieran brooke...</td>\n",
              "      <td>2016-01-31T21:52:14Z</td>\n",
              "      <td>25.0</td>\n",
              "      <td>starttoken northampton kieran brooke drafted e...</td>\n",
              "    </tr>\n",
              "    <tr>\n",
              "      <th>...</th>\n",
              "      <td>...</td>\n",
              "      <td>...</td>\n",
              "      <td>...</td>\n",
              "      <td>...</td>\n",
              "      <td>...</td>\n",
              "      <td>...</td>\n",
              "      <td>...</td>\n",
              "      <td>...</td>\n",
              "    </tr>\n",
              "    <tr>\n",
              "      <th>148719</th>\n",
              "      <td>world/2022/jun/21/marble-head-of-hercules-pull...</td>\n",
              "      <td>World news</td>\n",
              "      <td>marble head hercules pulled roman shipwreck si...</td>\n",
              "      <td>https://www.theguardian.com/world/2022/jun/21/...</td>\n",
              "      <td>archaeologist it’s underwater find keep giving...</td>\n",
              "      <td>2022-06-21T17:31:32Z</td>\n",
              "      <td>149835.0</td>\n",
              "      <td>starttoken marble head hercules pulled roman s...</td>\n",
              "    </tr>\n",
              "    <tr>\n",
              "      <th>148720</th>\n",
              "      <td>music/2022/jun/22/i-got-sick-of-talking-about-...</td>\n",
              "      <td>Music</td>\n",
              "      <td>‘i got sick talking myself’ spacey jane back m...</td>\n",
              "      <td>https://www.theguardian.com/music/2022/jun/22/...</td>\n",
              "      <td>mop curl caleb harper – spacey jane frontman g...</td>\n",
              "      <td>2022-06-21T17:30:09Z</td>\n",
              "      <td>149836.0</td>\n",
              "      <td>starttoken ‘i got sick talking myself’ spacey ...</td>\n",
              "    </tr>\n",
              "    <tr>\n",
              "      <th>148721</th>\n",
              "      <td>australia-news/2022/jun/22/the-small-town-with...</td>\n",
              "      <td>Australia news</td>\n",
              "      <td>small town big potato inspired global poetry win</td>\n",
              "      <td>https://www.theguardian.com/australia-news/202...</td>\n",
              "      <td>robertson small pretty town perched edge new s...</td>\n",
              "      <td>2022-06-21T17:30:09Z</td>\n",
              "      <td>149837.0</td>\n",
              "      <td>starttoken small town big potato inspired glob...</td>\n",
              "    </tr>\n",
              "    <tr>\n",
              "      <th>148722</th>\n",
              "      <td>australia-news/2022/jun/22/power-to-ban-citize...</td>\n",
              "      <td>Australia news</td>\n",
              "      <td>power ban citizen entering australia questione...</td>\n",
              "      <td>https://www.theguardian.com/australia-news/202...</td>\n",
              "      <td>high court decision striking home affair minis...</td>\n",
              "      <td>2022-06-21T17:30:08Z</td>\n",
              "      <td>149838.0</td>\n",
              "      <td>starttoken power ban citizen entering australi...</td>\n",
              "    </tr>\n",
              "    <tr>\n",
              "      <th>148723</th>\n",
              "      <td>australia-news/2022/jun/22/liberal-mps-say-pet...</td>\n",
              "      <td>Australia news</td>\n",
              "      <td>liberal mp say peter dutton let party room dec...</td>\n",
              "      <td>https://www.theguardian.com/australia-news/202...</td>\n",
              "      <td>liberal mp urging peter dutton let party room ...</td>\n",
              "      <td>2022-06-21T17:30:08Z</td>\n",
              "      <td>149839.0</td>\n",
              "      <td>starttoken liberal mp say peter dutton let par...</td>\n",
              "    </tr>\n",
              "  </tbody>\n",
              "</table>\n",
              "<p>148695 rows × 8 columns</p>\n",
              "</div>\n",
              "    <div class=\"colab-df-buttons\">\n",
              "\n",
              "  <div class=\"colab-df-container\">\n",
              "    <button class=\"colab-df-convert\" onclick=\"convertToInteractive('df-be491a0e-375a-4628-9304-48ce9423e114')\"\n",
              "            title=\"Convert this dataframe to an interactive table.\"\n",
              "            style=\"display:none;\">\n",
              "\n",
              "  <svg xmlns=\"http://www.w3.org/2000/svg\" height=\"24px\" viewBox=\"0 -960 960 960\">\n",
              "    <path d=\"M120-120v-720h720v720H120Zm60-500h600v-160H180v160Zm220 220h160v-160H400v160Zm0 220h160v-160H400v160ZM180-400h160v-160H180v160Zm440 0h160v-160H620v160ZM180-180h160v-160H180v160Zm440 0h160v-160H620v160Z\"/>\n",
              "  </svg>\n",
              "    </button>\n",
              "\n",
              "  <style>\n",
              "    .colab-df-container {\n",
              "      display:flex;\n",
              "      gap: 12px;\n",
              "    }\n",
              "\n",
              "    .colab-df-convert {\n",
              "      background-color: #E8F0FE;\n",
              "      border: none;\n",
              "      border-radius: 50%;\n",
              "      cursor: pointer;\n",
              "      display: none;\n",
              "      fill: #1967D2;\n",
              "      height: 32px;\n",
              "      padding: 0 0 0 0;\n",
              "      width: 32px;\n",
              "    }\n",
              "\n",
              "    .colab-df-convert:hover {\n",
              "      background-color: #E2EBFA;\n",
              "      box-shadow: 0px 1px 2px rgba(60, 64, 67, 0.3), 0px 1px 3px 1px rgba(60, 64, 67, 0.15);\n",
              "      fill: #174EA6;\n",
              "    }\n",
              "\n",
              "    .colab-df-buttons div {\n",
              "      margin-bottom: 4px;\n",
              "    }\n",
              "\n",
              "    [theme=dark] .colab-df-convert {\n",
              "      background-color: #3B4455;\n",
              "      fill: #D2E3FC;\n",
              "    }\n",
              "\n",
              "    [theme=dark] .colab-df-convert:hover {\n",
              "      background-color: #434B5C;\n",
              "      box-shadow: 0px 1px 3px 1px rgba(0, 0, 0, 0.15);\n",
              "      filter: drop-shadow(0px 1px 2px rgba(0, 0, 0, 0.3));\n",
              "      fill: #FFFFFF;\n",
              "    }\n",
              "  </style>\n",
              "\n",
              "    <script>\n",
              "      const buttonEl =\n",
              "        document.querySelector('#df-be491a0e-375a-4628-9304-48ce9423e114 button.colab-df-convert');\n",
              "      buttonEl.style.display =\n",
              "        google.colab.kernel.accessAllowed ? 'block' : 'none';\n",
              "\n",
              "      async function convertToInteractive(key) {\n",
              "        const element = document.querySelector('#df-be491a0e-375a-4628-9304-48ce9423e114');\n",
              "        const dataTable =\n",
              "          await google.colab.kernel.invokeFunction('convertToInteractive',\n",
              "                                                    [key], {});\n",
              "        if (!dataTable) return;\n",
              "\n",
              "        const docLinkHtml = 'Like what you see? Visit the ' +\n",
              "          '<a target=\"_blank\" href=https://colab.research.google.com/notebooks/data_table.ipynb>data table notebook</a>'\n",
              "          + ' to learn more about interactive tables.';\n",
              "        element.innerHTML = '';\n",
              "        dataTable['output_type'] = 'display_data';\n",
              "        await google.colab.output.renderOutput(dataTable, element);\n",
              "        const docLink = document.createElement('div');\n",
              "        docLink.innerHTML = docLinkHtml;\n",
              "        element.appendChild(docLink);\n",
              "      }\n",
              "    </script>\n",
              "  </div>\n",
              "\n",
              "\n",
              "<div id=\"df-e3bf2d0c-83d2-425e-a731-e513c9871b89\">\n",
              "  <button class=\"colab-df-quickchart\" onclick=\"quickchart('df-e3bf2d0c-83d2-425e-a731-e513c9871b89')\"\n",
              "            title=\"Suggest charts\"\n",
              "            style=\"display:none;\">\n",
              "\n",
              "<svg xmlns=\"http://www.w3.org/2000/svg\" height=\"24px\"viewBox=\"0 0 24 24\"\n",
              "     width=\"24px\">\n",
              "    <g>\n",
              "        <path d=\"M19 3H5c-1.1 0-2 .9-2 2v14c0 1.1.9 2 2 2h14c1.1 0 2-.9 2-2V5c0-1.1-.9-2-2-2zM9 17H7v-7h2v7zm4 0h-2V7h2v10zm4 0h-2v-4h2v4z\"/>\n",
              "    </g>\n",
              "</svg>\n",
              "  </button>\n",
              "\n",
              "<style>\n",
              "  .colab-df-quickchart {\n",
              "      --bg-color: #E8F0FE;\n",
              "      --fill-color: #1967D2;\n",
              "      --hover-bg-color: #E2EBFA;\n",
              "      --hover-fill-color: #174EA6;\n",
              "      --disabled-fill-color: #AAA;\n",
              "      --disabled-bg-color: #DDD;\n",
              "  }\n",
              "\n",
              "  [theme=dark] .colab-df-quickchart {\n",
              "      --bg-color: #3B4455;\n",
              "      --fill-color: #D2E3FC;\n",
              "      --hover-bg-color: #434B5C;\n",
              "      --hover-fill-color: #FFFFFF;\n",
              "      --disabled-bg-color: #3B4455;\n",
              "      --disabled-fill-color: #666;\n",
              "  }\n",
              "\n",
              "  .colab-df-quickchart {\n",
              "    background-color: var(--bg-color);\n",
              "    border: none;\n",
              "    border-radius: 50%;\n",
              "    cursor: pointer;\n",
              "    display: none;\n",
              "    fill: var(--fill-color);\n",
              "    height: 32px;\n",
              "    padding: 0;\n",
              "    width: 32px;\n",
              "  }\n",
              "\n",
              "  .colab-df-quickchart:hover {\n",
              "    background-color: var(--hover-bg-color);\n",
              "    box-shadow: 0 1px 2px rgba(60, 64, 67, 0.3), 0 1px 3px 1px rgba(60, 64, 67, 0.15);\n",
              "    fill: var(--button-hover-fill-color);\n",
              "  }\n",
              "\n",
              "  .colab-df-quickchart-complete:disabled,\n",
              "  .colab-df-quickchart-complete:disabled:hover {\n",
              "    background-color: var(--disabled-bg-color);\n",
              "    fill: var(--disabled-fill-color);\n",
              "    box-shadow: none;\n",
              "  }\n",
              "\n",
              "  .colab-df-spinner {\n",
              "    border: 2px solid var(--fill-color);\n",
              "    border-color: transparent;\n",
              "    border-bottom-color: var(--fill-color);\n",
              "    animation:\n",
              "      spin 1s steps(1) infinite;\n",
              "  }\n",
              "\n",
              "  @keyframes spin {\n",
              "    0% {\n",
              "      border-color: transparent;\n",
              "      border-bottom-color: var(--fill-color);\n",
              "      border-left-color: var(--fill-color);\n",
              "    }\n",
              "    20% {\n",
              "      border-color: transparent;\n",
              "      border-left-color: var(--fill-color);\n",
              "      border-top-color: var(--fill-color);\n",
              "    }\n",
              "    30% {\n",
              "      border-color: transparent;\n",
              "      border-left-color: var(--fill-color);\n",
              "      border-top-color: var(--fill-color);\n",
              "      border-right-color: var(--fill-color);\n",
              "    }\n",
              "    40% {\n",
              "      border-color: transparent;\n",
              "      border-right-color: var(--fill-color);\n",
              "      border-top-color: var(--fill-color);\n",
              "    }\n",
              "    60% {\n",
              "      border-color: transparent;\n",
              "      border-right-color: var(--fill-color);\n",
              "    }\n",
              "    80% {\n",
              "      border-color: transparent;\n",
              "      border-right-color: var(--fill-color);\n",
              "      border-bottom-color: var(--fill-color);\n",
              "    }\n",
              "    90% {\n",
              "      border-color: transparent;\n",
              "      border-bottom-color: var(--fill-color);\n",
              "    }\n",
              "  }\n",
              "</style>\n",
              "\n",
              "  <script>\n",
              "    async function quickchart(key) {\n",
              "      const quickchartButtonEl =\n",
              "        document.querySelector('#' + key + ' button');\n",
              "      quickchartButtonEl.disabled = true;  // To prevent multiple clicks.\n",
              "      quickchartButtonEl.classList.add('colab-df-spinner');\n",
              "      try {\n",
              "        const charts = await google.colab.kernel.invokeFunction(\n",
              "            'suggestCharts', [key], {});\n",
              "      } catch (error) {\n",
              "        console.error('Error during call to suggestCharts:', error);\n",
              "      }\n",
              "      quickchartButtonEl.classList.remove('colab-df-spinner');\n",
              "      quickchartButtonEl.classList.add('colab-df-quickchart-complete');\n",
              "    }\n",
              "    (() => {\n",
              "      let quickchartButtonEl =\n",
              "        document.querySelector('#df-e3bf2d0c-83d2-425e-a731-e513c9871b89 button');\n",
              "      quickchartButtonEl.style.display =\n",
              "        google.colab.kernel.accessAllowed ? 'block' : 'none';\n",
              "    })();\n",
              "  </script>\n",
              "</div>\n",
              "    </div>\n",
              "  </div>\n"
            ]
          },
          "metadata": {},
          "execution_count": 6
        }
      ],
      "source": [
        "data"
      ]
    },
    {
      "cell_type": "code",
      "execution_count": null,
      "metadata": {
        "colab": {
          "base_uri": "https://localhost:8080/"
        },
        "id": "1xm3KbhbG1R7",
        "outputId": "d2bf8ef1-9af7-419e-e61e-bc8b51f7479b"
      },
      "outputs": [
        {
          "output_type": "stream",
          "name": "stderr",
          "text": [
            "[nltk_data] Downloading package stopwords to /root/nltk_data...\n",
            "[nltk_data]   Package stopwords is already up-to-date!\n",
            "[nltk_data] Downloading package wordnet to /root/nltk_data...\n",
            "[nltk_data]   Package wordnet is already up-to-date!\n"
          ]
        }
      ],
      "source": [
        "# Download necessary NLTK data\n",
        "nltk.download('stopwords')\n",
        "nltk.download('wordnet')\n",
        "\n",
        "# Initialize the lemmatizer\n",
        "lemmatizer = WordNetLemmatizer()\n",
        "\n",
        "# Define a function for advanced text cleaning\n",
        "def clean_text(text):\n",
        "    # Convert text to lowercase\n",
        "    text = text.lower()\n",
        "\n",
        "    # Remove punctuation\n",
        "    text = re.sub(f\"[{string.punctuation}]\", \" \", text)\n",
        "\n",
        "    # Remove numbers\n",
        "    text = re.sub(r'\\d+', '', text)\n",
        "\n",
        "    # Remove extra spaces\n",
        "    text = re.sub(r'\\s+', ' ', text).strip()\n",
        "\n",
        "    # Tokenize text\n",
        "    tokens = text.split()\n",
        "\n",
        "    # Remove stopwords\n",
        "    tokens = [word for word in tokens if word not in stopwords.words('english')]\n",
        "\n",
        "    # Lemmatization\n",
        "    tokens = [lemmatizer.lemmatize(word) for word in tokens]\n",
        "\n",
        "    # Reconstruct the text from tokens\n",
        "    text = ' '.join(tokens)\n",
        "\n",
        "    return text\n",
        "\n"
      ]
    },
    {
      "cell_type": "code",
      "execution_count": null,
      "metadata": {
        "id": "Be6GGhPcSsuI"
      },
      "outputs": [],
      "source": [
        "def clean_text2(text):\n",
        "    # Remove specific unwanted characters\n",
        "    text = text.replace('”', '').replace('–', '')\n",
        "    return text"
      ]
    },
    {
      "cell_type": "code",
      "execution_count": null,
      "metadata": {
        "id": "jykjN0dWSzP2"
      },
      "outputs": [],
      "source": [
        "data['webTitle'] = data['webTitle'].apply(clean_text2)\n",
        "data['bodyContent'] = data['bodyContent'].apply(clean_text2)"
      ]
    },
    {
      "cell_type": "code",
      "source": [
        "tokenizer = BartTokenizer.from_pretrained('facebook/bart-large')\n",
        "model = BartForConditionalGeneration.from_pretrained('facebook/bart-large')\n"
      ],
      "metadata": {
        "colab": {
          "base_uri": "https://localhost:8080/",
          "height": 209,
          "referenced_widgets": [
            "8f89babbcf5f43b7ac2e65ee6149b843",
            "96396f282e504cd6af3b6e1af85f04da",
            "982710327427443988fdeaa9b4b0a3d9",
            "c3e0929301254d4a854aec24b34b7f1c",
            "aa6bfcdff4a549559772f7093b54417e",
            "a0adeef6aefc4e0c92572469e80cce14",
            "1b19d686ceaf4b1ab72fe6f1186ff68b",
            "c494ae2483964ef0af3988e90c429dcc",
            "ebd5f32328cb4db6a7f9c5767c2bea31",
            "f80892cd3bf94dc98a52ef2f37ef91f8",
            "7baa1ad4a1da4fb1be06db6716dfd1e3",
            "bc0e68e1e7604252ab730ab3c2f150ec",
            "5511773ecd0a47f78ad30faf9328412f",
            "0db0d918e5d6410e8f15f7aa394a4063",
            "d9187741db504736a9f82431f4a21800",
            "a399a2649e3048ceb2bf4f22cfb72ced",
            "f3bf3f3866264d8fba67d2d9426c2c91",
            "6d4b406708324573a6facd5a374288c7",
            "3c202d035b6e44889c8fb9a1d7426ace",
            "112bf454350e43d1b202fc8767158cc9",
            "87f32a60ee474380877679abdb6fccd4",
            "a6e364b8d4a446688536b45fb5946bcb",
            "38c4bdc37e5a4ed5b6199e1143ccb7a9",
            "a4b23d8b6d514a488163f2957ea27616",
            "4560dca2aa3441708b1a4021b0e87670",
            "bac51434481c427f9183ad802b40a108",
            "c2ea06e702c1432bad8e130411f57159",
            "81a049d67b1046a487e41444a50f64ea",
            "8ac5fcba925545db9f1381b58aa3fc93",
            "623f94e93056462c8fe8cf77bae9e9e5",
            "1dfa432b4cc54461a17c22c0520e0544",
            "759d6daeb21b4c3d84fc54069cc090dd",
            "49af41f68286485c80de4d89a1b3703c",
            "1581ef0088cd47a3993f93d76bac935d",
            "e811ee7ff1f545d586f8d3d0b5a688f7",
            "9deefd71938b43d293236ddea4733fba",
            "401ea1f322e64ceb80648a4d09afe58f",
            "c2be05dea27a434e831f4b591a5c03df",
            "e5abf5724abe4058832ed859f5e807c1",
            "8547948e19d54955b73da85504a76a94",
            "732157e562df432e8fb4d267fdb06e78",
            "bd152f019a3b4fb69062618c7c7600d2",
            "a2cdab26890543679c6a914cdaf3ba34",
            "ab8f52805685403dba4a0d8b6dc51ef8",
            "7faa00fa503549488d2ca0bd7655c318",
            "a90456ec66bf46bf897a7d7a0ebcd21d",
            "348cd293dce14579b298dfe53d25bc9f",
            "c4aa8cfc2b9c4d59b8527a0d101bd505",
            "1b3a46fa4f7d464e8dfb1d5e49726e70",
            "5010c84614034be9b09280ac1d3c5af9",
            "6408ac29a56343b5b6743f1b12b77383",
            "000d421456104016ad788b9bd3682b83",
            "7f93cd2032cb4a10ab7659d5aac38a88",
            "e33c4b23e66243aeba0103625d13f3b9",
            "a921945a1664433aa2d95a7ea54a0fbd",
            "cd9e054608284968af8c0eebe3bed49b",
            "b799a7b5655948ad80859dfa68b9e688",
            "343d4483b4b84f2fb0ff7f7d54505d8f",
            "5cf14a9a63754517a7b7f84f5034a578",
            "ae466094f16149ec8795700762f53001",
            "882f8a6ede384e73b23094c7d68439eb",
            "3a237cb3f98f44e18bf3146d76ca50a1",
            "90f392b930734c448d78e2c111797c37",
            "5a0b98c94bc04c87aceda81ef29da3b6",
            "15054fb44b954e328f33757675fd9b98",
            "b8bc9078de9d4a85b07050530a14aca8"
          ]
        },
        "id": "cIM_FCq-zkOp",
        "outputId": "87943038-e9ff-4b13-f7f1-eb3006e4338a"
      },
      "execution_count": null,
      "outputs": [
        {
          "output_type": "display_data",
          "data": {
            "text/plain": [
              "tokenizer_config.json:   0%|          | 0.00/26.0 [00:00<?, ?B/s]"
            ],
            "application/vnd.jupyter.widget-view+json": {
              "version_major": 2,
              "version_minor": 0,
              "model_id": "8f89babbcf5f43b7ac2e65ee6149b843"
            }
          },
          "metadata": {}
        },
        {
          "output_type": "display_data",
          "data": {
            "text/plain": [
              "vocab.json:   0%|          | 0.00/899k [00:00<?, ?B/s]"
            ],
            "application/vnd.jupyter.widget-view+json": {
              "version_major": 2,
              "version_minor": 0,
              "model_id": "bc0e68e1e7604252ab730ab3c2f150ec"
            }
          },
          "metadata": {}
        },
        {
          "output_type": "display_data",
          "data": {
            "text/plain": [
              "merges.txt:   0%|          | 0.00/456k [00:00<?, ?B/s]"
            ],
            "application/vnd.jupyter.widget-view+json": {
              "version_major": 2,
              "version_minor": 0,
              "model_id": "38c4bdc37e5a4ed5b6199e1143ccb7a9"
            }
          },
          "metadata": {}
        },
        {
          "output_type": "display_data",
          "data": {
            "text/plain": [
              "tokenizer.json:   0%|          | 0.00/1.36M [00:00<?, ?B/s]"
            ],
            "application/vnd.jupyter.widget-view+json": {
              "version_major": 2,
              "version_minor": 0,
              "model_id": "1581ef0088cd47a3993f93d76bac935d"
            }
          },
          "metadata": {}
        },
        {
          "output_type": "display_data",
          "data": {
            "text/plain": [
              "config.json:   0%|          | 0.00/1.63k [00:00<?, ?B/s]"
            ],
            "application/vnd.jupyter.widget-view+json": {
              "version_major": 2,
              "version_minor": 0,
              "model_id": "7faa00fa503549488d2ca0bd7655c318"
            }
          },
          "metadata": {}
        },
        {
          "output_type": "display_data",
          "data": {
            "text/plain": [
              "pytorch_model.bin:   0%|          | 0.00/1.02G [00:00<?, ?B/s]"
            ],
            "application/vnd.jupyter.widget-view+json": {
              "version_major": 2,
              "version_minor": 0,
              "model_id": "cd9e054608284968af8c0eebe3bed49b"
            }
          },
          "metadata": {}
        }
      ]
    },
    {
      "cell_type": "code",
      "source": [
        "def bart_encode(text, tokenizer, max_length=512):\n",
        "    return tokenizer(text, padding='max_length', truncation=True, max_length=max_length, return_tensors=\"pt\")\n"
      ],
      "metadata": {
        "id": "kJAT_l2nzmyM"
      },
      "execution_count": null,
      "outputs": []
    },
    {
      "cell_type": "code",
      "source": [
        "encoded_inputs = bart_encode(data['bodyContent'], tokenizer, max_length=500)\n",
        "encoded_outputs = bart_encode(data['webTitle'], tokenizer, max_length=30)"
      ],
      "metadata": {
        "colab": {
          "base_uri": "https://localhost:8080/",
          "height": 355
        },
        "id": "14g08Esxzqjt",
        "outputId": "9c12e16f-0d40-4619-abcf-212d355c87a9"
      },
      "execution_count": null,
      "outputs": [
        {
          "output_type": "error",
          "ename": "ValueError",
          "evalue": "ignored",
          "traceback": [
            "\u001b[0;31m---------------------------------------------------------------------------\u001b[0m",
            "\u001b[0;31mValueError\u001b[0m                                Traceback (most recent call last)",
            "\u001b[0;32m<ipython-input-13-6215a5cd9f05>\u001b[0m in \u001b[0;36m<cell line: 1>\u001b[0;34m()\u001b[0m\n\u001b[0;32m----> 1\u001b[0;31m \u001b[0mencoded_inputs\u001b[0m \u001b[0;34m=\u001b[0m \u001b[0mbart_encode\u001b[0m\u001b[0;34m(\u001b[0m\u001b[0mdata\u001b[0m\u001b[0;34m[\u001b[0m\u001b[0;34m'bodyContent'\u001b[0m\u001b[0;34m]\u001b[0m\u001b[0;34m,\u001b[0m \u001b[0mtokenizer\u001b[0m\u001b[0;34m,\u001b[0m \u001b[0mmax_length\u001b[0m\u001b[0;34m=\u001b[0m\u001b[0;36m500\u001b[0m\u001b[0;34m)\u001b[0m\u001b[0;34m\u001b[0m\u001b[0;34m\u001b[0m\u001b[0m\n\u001b[0m\u001b[1;32m      2\u001b[0m \u001b[0mencoded_outputs\u001b[0m \u001b[0;34m=\u001b[0m \u001b[0mbart_encode\u001b[0m\u001b[0;34m(\u001b[0m\u001b[0mdata\u001b[0m\u001b[0;34m[\u001b[0m\u001b[0;34m'webTitle'\u001b[0m\u001b[0;34m]\u001b[0m\u001b[0;34m,\u001b[0m \u001b[0mtokenizer\u001b[0m\u001b[0;34m,\u001b[0m \u001b[0mmax_length\u001b[0m\u001b[0;34m=\u001b[0m\u001b[0;36m30\u001b[0m\u001b[0;34m)\u001b[0m\u001b[0;34m\u001b[0m\u001b[0;34m\u001b[0m\u001b[0m\n",
            "\u001b[0;32m<ipython-input-12-bcb3836cff86>\u001b[0m in \u001b[0;36mbart_encode\u001b[0;34m(text, tokenizer, max_length)\u001b[0m\n\u001b[1;32m      1\u001b[0m \u001b[0;32mdef\u001b[0m \u001b[0mbart_encode\u001b[0m\u001b[0;34m(\u001b[0m\u001b[0mtext\u001b[0m\u001b[0;34m,\u001b[0m \u001b[0mtokenizer\u001b[0m\u001b[0;34m,\u001b[0m \u001b[0mmax_length\u001b[0m\u001b[0;34m=\u001b[0m\u001b[0;36m512\u001b[0m\u001b[0;34m)\u001b[0m\u001b[0;34m:\u001b[0m\u001b[0;34m\u001b[0m\u001b[0;34m\u001b[0m\u001b[0m\n\u001b[0;32m----> 2\u001b[0;31m     \u001b[0;32mreturn\u001b[0m \u001b[0mtokenizer\u001b[0m\u001b[0;34m(\u001b[0m\u001b[0mtext\u001b[0m\u001b[0;34m,\u001b[0m \u001b[0mpadding\u001b[0m\u001b[0;34m=\u001b[0m\u001b[0;34m'max_length'\u001b[0m\u001b[0;34m,\u001b[0m \u001b[0mtruncation\u001b[0m\u001b[0;34m=\u001b[0m\u001b[0;32mTrue\u001b[0m\u001b[0;34m,\u001b[0m \u001b[0mmax_length\u001b[0m\u001b[0;34m=\u001b[0m\u001b[0mmax_length\u001b[0m\u001b[0;34m,\u001b[0m \u001b[0mreturn_tensors\u001b[0m\u001b[0;34m=\u001b[0m\u001b[0;34m\"pt\"\u001b[0m\u001b[0;34m)\u001b[0m\u001b[0;34m\u001b[0m\u001b[0;34m\u001b[0m\u001b[0m\n\u001b[0m",
            "\u001b[0;32m/usr/local/lib/python3.10/dist-packages/transformers/tokenization_utils_base.py\u001b[0m in \u001b[0;36m__call__\u001b[0;34m(self, text, text_pair, text_target, text_pair_target, add_special_tokens, padding, truncation, max_length, stride, is_split_into_words, pad_to_multiple_of, return_tensors, return_token_type_ids, return_attention_mask, return_overflowing_tokens, return_special_tokens_mask, return_offsets_mapping, return_length, verbose, **kwargs)\u001b[0m\n\u001b[1;32m   2796\u001b[0m             \u001b[0;32mif\u001b[0m \u001b[0;32mnot\u001b[0m \u001b[0mself\u001b[0m\u001b[0;34m.\u001b[0m\u001b[0m_in_target_context_manager\u001b[0m\u001b[0;34m:\u001b[0m\u001b[0;34m\u001b[0m\u001b[0;34m\u001b[0m\u001b[0m\n\u001b[1;32m   2797\u001b[0m                 \u001b[0mself\u001b[0m\u001b[0;34m.\u001b[0m\u001b[0m_switch_to_input_mode\u001b[0m\u001b[0;34m(\u001b[0m\u001b[0;34m)\u001b[0m\u001b[0;34m\u001b[0m\u001b[0;34m\u001b[0m\u001b[0m\n\u001b[0;32m-> 2798\u001b[0;31m             \u001b[0mencodings\u001b[0m \u001b[0;34m=\u001b[0m \u001b[0mself\u001b[0m\u001b[0;34m.\u001b[0m\u001b[0m_call_one\u001b[0m\u001b[0;34m(\u001b[0m\u001b[0mtext\u001b[0m\u001b[0;34m=\u001b[0m\u001b[0mtext\u001b[0m\u001b[0;34m,\u001b[0m \u001b[0mtext_pair\u001b[0m\u001b[0;34m=\u001b[0m\u001b[0mtext_pair\u001b[0m\u001b[0;34m,\u001b[0m \u001b[0;34m**\u001b[0m\u001b[0mall_kwargs\u001b[0m\u001b[0;34m)\u001b[0m\u001b[0;34m\u001b[0m\u001b[0;34m\u001b[0m\u001b[0m\n\u001b[0m\u001b[1;32m   2799\u001b[0m         \u001b[0;32mif\u001b[0m \u001b[0mtext_target\u001b[0m \u001b[0;32mis\u001b[0m \u001b[0;32mnot\u001b[0m \u001b[0;32mNone\u001b[0m\u001b[0;34m:\u001b[0m\u001b[0;34m\u001b[0m\u001b[0;34m\u001b[0m\u001b[0m\n\u001b[1;32m   2800\u001b[0m             \u001b[0mself\u001b[0m\u001b[0;34m.\u001b[0m\u001b[0m_switch_to_target_mode\u001b[0m\u001b[0;34m(\u001b[0m\u001b[0;34m)\u001b[0m\u001b[0;34m\u001b[0m\u001b[0;34m\u001b[0m\u001b[0m\n",
            "\u001b[0;32m/usr/local/lib/python3.10/dist-packages/transformers/tokenization_utils_base.py\u001b[0m in \u001b[0;36m_call_one\u001b[0;34m(self, text, text_pair, add_special_tokens, padding, truncation, max_length, stride, is_split_into_words, pad_to_multiple_of, return_tensors, return_token_type_ids, return_attention_mask, return_overflowing_tokens, return_special_tokens_mask, return_offsets_mapping, return_length, verbose, **kwargs)\u001b[0m\n\u001b[1;32m   2854\u001b[0m \u001b[0;34m\u001b[0m\u001b[0m\n\u001b[1;32m   2855\u001b[0m         \u001b[0;32mif\u001b[0m \u001b[0;32mnot\u001b[0m \u001b[0m_is_valid_text_input\u001b[0m\u001b[0;34m(\u001b[0m\u001b[0mtext\u001b[0m\u001b[0;34m)\u001b[0m\u001b[0;34m:\u001b[0m\u001b[0;34m\u001b[0m\u001b[0;34m\u001b[0m\u001b[0m\n\u001b[0;32m-> 2856\u001b[0;31m             raise ValueError(\n\u001b[0m\u001b[1;32m   2857\u001b[0m                 \u001b[0;34m\"text input must of type `str` (single example), `List[str]` (batch or single pretokenized example) \"\u001b[0m\u001b[0;34m\u001b[0m\u001b[0;34m\u001b[0m\u001b[0m\n\u001b[1;32m   2858\u001b[0m                 \u001b[0;34m\"or `List[List[str]]` (batch of pretokenized examples).\"\u001b[0m\u001b[0;34m\u001b[0m\u001b[0;34m\u001b[0m\u001b[0m\n",
            "\u001b[0;31mValueError\u001b[0m: text input must of type `str` (single example), `List[str]` (batch or single pretokenized example) or `List[List[str]]` (batch of pretokenized examples)."
          ]
        }
      ]
    },
    {
      "cell_type": "code",
      "source": [],
      "metadata": {
        "id": "yi2NQEVrdNkO"
      },
      "execution_count": null,
      "outputs": []
    },
    {
      "cell_type": "code",
      "source": [],
      "metadata": {
        "id": "dqPqPYbYdNfo"
      },
      "execution_count": null,
      "outputs": []
    },
    {
      "cell_type": "code",
      "source": [
        "tokenizer = BertTokenizer.from_pretrained('bert-base-uncased')\n",
        "\n",
        "train_encodings = tokenizer(train_texts.tolist(), truncation=True, padding=True, max_length=512)\n",
        "val_encodings = tokenizer(val_texts.tolist(), truncation=True, padding=True, max_length=512)\n"
      ],
      "metadata": {
        "id": "jSlNNCt8mch6"
      },
      "execution_count": null,
      "outputs": []
    },
    {
      "cell_type": "code",
      "source": [
        "train_dataset = tf.data.Dataset.from_tensor_slices((\n",
        "    dict(train_encodings),\n",
        "    train_labels\n",
        "))\n",
        "\n",
        "val_dataset = tf.data.Dataset.from_tensor_slices((\n",
        "    dict(val_encodings),\n",
        "    val_labels\n",
        "))\n"
      ],
      "metadata": {
        "id": "OPsuXQ1dmdDY"
      },
      "execution_count": null,
      "outputs": []
    },
    {
      "cell_type": "code",
      "source": [
        "# Load pre-trained BERT\n",
        "bert = TFBertModel.from_pretrained('bert-base-uncased')\n",
        "\n",
        "# Build a custom model\n",
        "input_ids = tf.keras.Input(shape=(512,), dtype='int32', name='input_ids')  # Adjust the shape as needed\n",
        "attention_mask = tf.keras.Input(shape=(512,), dtype='int32', name='attention_mask')  # Adjust the shape as needed\n",
        "\n",
        "# BERT output\n",
        "bert_output = bert(input_ids, attention_mask=attention_mask)[0]  # Using the last hidden state\n",
        "\n",
        "# BiLSTM Decoder\n",
        "decoder_bilstm = Bidirectional(LSTM(256, return_sequences=True, return_state=True))\n",
        "decoder_outputs, forward_h, forward_c, backward_h, backward_c = decoder_bilstm(bert_output)\n",
        "\n",
        "# Dense layer for output\n",
        "decoder_dense = Dense(num_classes, activation='softmax')  # num_classes is the size of your target vocabulary\n",
        "decoder_outputs = TimeDistributed(decoder_dense)(decoder_outputs)\n",
        "\n",
        "# Build the model\n",
        "model = tf.keras.Model(inputs=[input_ids, attention_mask], outputs=decoder_outputs)\n",
        "\n",
        "# Compile the model\n",
        "model.compile(optimizer='adam', loss='categorical_crossentropy', metrics=['accuracy'])\n"
      ],
      "metadata": {
        "id": "xLDkfRafmhoO"
      },
      "execution_count": null,
      "outputs": []
    },
    {
      "cell_type": "code",
      "source": [
        "model.fit(train_dataset.shuffle(1000).batch(16), epochs=3, batch_size=16)"
      ],
      "metadata": {
        "id": "EdOquUPvmpnv"
      },
      "execution_count": null,
      "outputs": []
    }
  ]
}