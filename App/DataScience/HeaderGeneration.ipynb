{
  "nbformat": 4,
  "nbformat_minor": 0,
  "metadata": {
    "colab": {
      "provenance": []
    },
    "kernelspec": {
      "name": "python3",
      "display_name": "Python 3"
    },
    "language_info": {
      "name": "python"
    }
  },
  "cells": [
    {
      "cell_type": "code",
      "execution_count": null,
      "metadata": {
        "colab": {
          "base_uri": "https://localhost:8080/"
        },
        "outputId": "385b818c-6f9e-4afc-ac9a-a13c6430bc5a",
        "id": "EZUOmWP4i10P"
      },
      "outputs": [
        {
          "output_type": "stream",
          "name": "stdout",
          "text": [
            "Mounted at /content/drive\n"
          ]
        }
      ],
      "source": [
        "from google.colab import drive\n",
        "drive.mount('/content/drive', force_remount=True)"
      ]
    },
    {
      "cell_type": "code",
      "source": [
        "import gdown\n",
        "import os,glob\n",
        "import pandas as pd\n",
        "from keras.utils import to_categorical\n",
        "from scipy import sparse\n",
        "import string\n",
        "import numpy as np\n",
        "import json\n",
        "import pandas as pd\n",
        "import re\n",
        "import string\n",
        "import nltk\n",
        "from nltk.corpus import stopwords\n",
        "from nltk.stem import WordNetLemmatizer\n",
        "from sklearn.model_selection import train_test_split\n",
        "import numpy as np\n",
        "from keras.utils import to_categorical\n",
        "from keras.preprocessing.sequence import pad_sequences\n",
        "from keras.layers import Embedding, LSTM, Dense, Dropout\n",
        "from keras.preprocessing.text import Tokenizer\n",
        "from keras.callbacks import EarlyStopping\n",
        "from keras.models import Sequential\n",
        "import keras.utils as ku\n",
        "import tensorflow as tf\n",
        "tf.random.set_seed(2)\n",
        "from numpy.random import seed\n",
        "seed(1)"
      ],
      "metadata": {
        "id": "1Ow-ztU_i10Q"
      },
      "execution_count": null,
      "outputs": []
    },
    {
      "cell_type": "markdown",
      "metadata": {
        "id": "LtQbvBxDIq4y"
      },
      "source": [
        "This code block is used to mount your Google Drive to the Colab environment. It allows you to access files stored in your Google Drive directly from the Colab notebook. The force_remount=True parameter ensures that the drive is remounted if it was previously mounted during the session. This is useful for ensuring that the latest version of the drive's contents is accessible."
      ]
    },
    {
      "cell_type": "code",
      "execution_count": null,
      "metadata": {
        "colab": {
          "base_uri": "https://localhost:8080/"
        },
        "outputId": "6c72c502-3137-402a-e493-6fafd59f4cc5",
        "id": "VVg6UEsLJ7Mj"
      },
      "outputs": [
        {
          "output_type": "stream",
          "name": "stdout",
          "text": [
            "Mounted at /content/drive\n"
          ]
        }
      ],
      "source": [
        "from google.colab import drive\n",
        "drive.mount('/content/drive', force_remount=True)"
      ]
    },
    {
      "cell_type": "markdown",
      "metadata": {
        "id": "5TsVvmSjIzYL"
      },
      "source": [
        "This code block imports essential libraries and modules for data processing, machine learning model building, and text analysis. It includes libraries for data manipulation (Pandas), neural network construction (Keras, TensorFlow), natural language processing (NLTK), and various utilities for handling arrays, strings, and file paths. Additionally, it sets the seed for random number generation to ensure reproducibility."
      ]
    },
    {
      "cell_type": "code",
      "execution_count": null,
      "metadata": {
        "id": "_OFsBI1uJ7Mj"
      },
      "outputs": [],
      "source": [
        "import gdown\n",
        "import os,glob\n",
        "import pandas as pd\n",
        "from keras.utils import to_categorical\n",
        "from scipy import sparse\n",
        "import string\n",
        "import numpy as np\n",
        "import json\n",
        "import pandas as pd\n",
        "import re\n",
        "import string\n",
        "import nltk\n",
        "from nltk.corpus import stopwords\n",
        "from nltk.stem import WordNetLemmatizer\n",
        "from sklearn.model_selection import train_test_split\n",
        "import numpy as np\n",
        "from keras.utils import to_categorical\n",
        "from keras.preprocessing.sequence import pad_sequences\n",
        "from keras.layers import Embedding, LSTM, Dense, Dropout\n",
        "from keras.preprocessing.text import Tokenizer\n",
        "from keras.callbacks import EarlyStopping\n",
        "from keras.models import Sequential\n",
        "import keras.utils as ku\n",
        "import tensorflow as tf\n",
        "tf.random.set_seed(2)\n",
        "from numpy.random import seed\n",
        "seed(1)"
      ]
    },
    {
      "cell_type": "code",
      "execution_count": null,
      "metadata": {
        "id": "VgSV__GOoDoR"
      },
      "outputs": [],
      "source": [
        "# data_url = \"something\""
      ]
    },
    {
      "cell_type": "markdown",
      "metadata": {
        "id": "7iMpIeV-K4AZ"
      },
      "source": [
        "This line of code assigns a URL to the variable data_url. The URL points to a Google Drive folder containing the data files needed for the project. The data can be accessed and downloaded using this URL, typically in combination with Google Drive APIs or tools like gdown to facilitate the download process in a programming environment."
      ]
    },
    {
      "cell_type": "code",
      "source": [
        "data_url = \"https://drive.google.com/drive/folders/1_RGwmjvW8p3jHuKqIbbHXdBDuDl2DTjU?usp=drive_link\""
      ],
      "metadata": {
        "id": "jc0_olxki10Q"
      },
      "execution_count": null,
      "outputs": []
    },
    {
      "cell_type": "code",
      "source": [
        "gdown.download_folder (data_url, quiet=True, use_cookies=False)"
      ],
      "metadata": {
        "colab": {
          "base_uri": "https://localhost:8080/"
        },
        "outputId": "c1bec2a4-c37c-4c44-8965-a9f90a797ece",
        "id": "BNe2bDAgi10Q"
      },
      "execution_count": null,
      "outputs": [
        {
          "output_type": "execute_result",
          "data": {
            "text/plain": [
              "['/content/Guardian News Articles/guardian_articles.csv']"
            ]
          },
          "metadata": {},
          "execution_count": 5
        }
      ]
    },
    {
      "cell_type": "code",
      "source": [
        "# Load dataset\n",
        "data_sample = pd.read_csv('/content/Guardian News Articles/guardian_articles.csv')\n",
        "\n",
        "# Using only 10% of the data\n",
        "data = data_sample.sample(frac=0.01, random_state=42)\n",
        "\n",
        "# Drop rows with missing values\n",
        "data.dropna(subset=['webTitle', 'bodyContent'], inplace=True)"
      ],
      "metadata": {
        "id": "KRCaOza4i10Q"
      },
      "execution_count": null,
      "outputs": []
    },
    {
      "cell_type": "code",
      "source": [
        "# Download necessary NLTK data\n",
        "nltk.download('stopwords')\n",
        "nltk.download('wordnet')\n",
        "\n",
        "# Initialize the lemmatizer\n",
        "lemmatizer = WordNetLemmatizer()\n",
        "\n",
        "# Define a function for advanced text cleaning\n",
        "def clean_text(text):\n",
        "    # Convert text to lowercase\n",
        "    text = text.lower()\n",
        "\n",
        "    # Remove punctuation\n",
        "    text = re.sub(f\"[{string.punctuation}]\", \" \", text)\n",
        "\n",
        "    # Remove numbers\n",
        "    text = re.sub(r'\\d+', '', text)\n",
        "\n",
        "    # Remove extra spaces\n",
        "    text = re.sub(r'\\s+', ' ', text).strip()\n",
        "\n",
        "    # Tokenize text\n",
        "    tokens = text.split()\n",
        "\n",
        "    # Remove stopwords\n",
        "    tokens = [word for word in tokens if word not in stopwords.words('english')]\n",
        "\n",
        "    # Lemmatization\n",
        "    tokens = [lemmatizer.lemmatize(word) for word in tokens]\n",
        "\n",
        "    # Reconstruct the text from tokens\n",
        "    text = ' '.join(tokens)\n",
        "\n",
        "    return text\n",
        "\n",
        "# Apply advanced text preprocessing\n",
        "data['webTitle'] = data['webTitle'].apply(clean_text)\n",
        "data['bodyContent'] = data['bodyContent'].apply(clean_text)\n",
        "\n",
        "# Add <start> and <end> tokens to each headline\n",
        "data['webTitle'] = data['webTitle'].apply(lambda x: '<start> ' + x + ' <end>')"
      ],
      "metadata": {
        "colab": {
          "base_uri": "https://localhost:8080/"
        },
        "outputId": "430d22cd-dfa7-4556-e8ec-fed122f8a5cd",
        "id": "2hG_70vsi10R"
      },
      "execution_count": null,
      "outputs": [
        {
          "output_type": "stream",
          "name": "stderr",
          "text": [
            "[nltk_data] Downloading package stopwords to /root/nltk_data...\n",
            "[nltk_data]   Unzipping corpora/stopwords.zip.\n",
            "[nltk_data] Downloading package wordnet to /root/nltk_data...\n"
          ]
        }
      ]
    },
    {
      "cell_type": "code",
      "source": [
        "data['webTitle']"
      ],
      "metadata": {
        "colab": {
          "base_uri": "https://localhost:8080/"
        },
        "outputId": "577ae6b3-f0bc-4362-dabb-9752f4009aef",
        "id": "OfxZOk8Fi10R"
      },
      "execution_count": null,
      "outputs": [
        {
          "output_type": "execute_result",
          "data": {
            "text/plain": [
              "118646    <start> demand tory mp scrap covid rule could ...\n",
              "124284    <start> really smart motorway would lower spee...\n",
              "141061    <start> ‘profiting suffering’ ap cancel sale m...\n",
              "80327     <start> school prison pipeline criminal justic...\n",
              "96867     <start> naked coronavirus tale desperation mad...\n",
              "                                ...                        \n",
              "140283    <start> uk new zealand sign free trade deal <end>\n",
              "110667    <start> crisis stage texas border city reel co...\n",
              "1812      <start> apple iphone sale projected stagnant q...\n",
              "91415      <start> woke gammon buzzword people coined <end>\n",
              "31590     <start> arsène wenger say arsenal fa cup win a...\n",
              "Name: webTitle, Length: 1486, dtype: object"
            ]
          },
          "metadata": {},
          "execution_count": 8
        }
      ]
    },
    {
      "cell_type": "code",
      "source": [
        "# Initialize tokenizer with a smaller vocabulary\n",
        "max_vocab_size = 50  # Adjust as needed\n",
        "tokenizer = Tokenizer(num_words=max_vocab_size)\n",
        "tokenizer.fit_on_texts(data['webTitle'])\n",
        "tokenizer.fit_on_texts(data['bodyContent'])\n",
        "\n",
        "# Convert texts to sequences\n",
        "sequences_body = tokenizer.texts_to_sequences(data['bodyContent'])\n",
        "sequences_title = tokenizer.texts_to_sequences(data['webTitle'])\n",
        "\n",
        "# Padding sequences\n",
        "body_padded = pad_sequences(sequences_body, maxlen=300)  # Adjust maxlen as per your data\n",
        "title_padded = pad_sequences(sequences_title, maxlen=30, padding='post')  # Adjust maxlen as per your data\n",
        "\n",
        "# Preparing decoder input\n",
        "title_padded_shifted = np.zeros_like(title_padded)\n",
        "title_padded_shifted[:, 1:] = title_padded[:, :-1]"
      ],
      "metadata": {
        "id": "8Uyzmusni10R"
      },
      "execution_count": null,
      "outputs": []
    },
    {
      "cell_type": "code",
      "source": [
        "# Splitting data into training and validation sets\n",
        "X_train, X_val, title_train, title_val, decoder_input_train, decoder_input_val = train_test_split(\n",
        "    body_padded, title_padded, title_padded_shifted, test_size=0.2, random_state=42)"
      ],
      "metadata": {
        "id": "1Y5ZDc6Ui10R"
      },
      "execution_count": null,
      "outputs": []
    },
    {
      "cell_type": "code",
      "source": [
        "# Function to convert to sparse categorical\n",
        "def to_sparse_categorical(y, num_classes):\n",
        "    y_sparse = []\n",
        "    for sequence in y:\n",
        "        y_sparse_seq = np.zeros((len(sequence), num_classes))\n",
        "        for i, idx in enumerate(sequence):\n",
        "            if idx < num_classes:\n",
        "                y_sparse_seq[i, idx] = 1\n",
        "        y_sparse.append(y_sparse_seq)\n",
        "    return np.array(y_sparse)\n",
        "\n",
        "# Converting training and validation target data to sparse categorical\n",
        "num_classes = max_vocab_size + 1  # +1 for the padding token\n",
        "y_train_sparse = to_sparse_categorical(title_train, num_classes)\n",
        "y_val_sparse = to_sparse_categorical(title_val, num_classes)"
      ],
      "metadata": {
        "id": "H3eR1eb5MKoB"
      },
      "execution_count": null,
      "outputs": []
    },
    {
      "cell_type": "code",
      "source": [
        "from keras.models import Model\n",
        "from keras.layers import Input, LSTM, Dense, Embedding, Concatenate, Bidirectional\n",
        "\n",
        "# Encoder\n",
        "encoder_inputs = Input(shape=(None,))\n",
        "encoder_embedding = Embedding(input_dim=max_vocab_size + 1, output_dim=128)\n",
        "encoder_lstm = Bidirectional(LSTM(128, return_state=True))\n",
        "encoder_outputs, forward_h, forward_c, backward_h, backward_c = encoder_lstm(encoder_embedding(encoder_inputs))\n",
        "state_h = Concatenate()([forward_h, backward_h])\n",
        "state_c = Concatenate()([forward_c, backward_c])\n",
        "encoder_states = [state_h, state_c]\n",
        "\n",
        "# Decoder\n",
        "decoder_inputs = Input(shape=(None,))\n",
        "decoder_embedding_layer = Embedding(input_dim=max_vocab_size + 1, output_dim=128)\n",
        "decoder_lstm = LSTM(256, return_sequences=True, return_state=True)\n",
        "decoder_dense = Dense(max_vocab_size + 1, activation='softmax')  # Correct number of units\n",
        "\n",
        "decoder_embedding = decoder_embedding_layer(decoder_inputs)\n",
        "decoder_outputs, _, _ = decoder_lstm(decoder_embedding, initial_state=encoder_states)\n",
        "decoder_outputs = decoder_dense(decoder_outputs)\n",
        "\n",
        "# Seq2Seq Model\n",
        "model = Model([encoder_inputs, decoder_inputs], decoder_outputs)\n",
        "\n",
        "# Compile the model\n",
        "model.compile(optimizer='adam', loss='categorical_crossentropy')\n"
      ],
      "metadata": {
        "id": "pa65WJMqBu9c"
      },
      "execution_count": null,
      "outputs": []
    },
    {
      "cell_type": "code",
      "source": [
        "model.summary()"
      ],
      "metadata": {
        "id": "PV8zb5aEDYoC"
      },
      "execution_count": null,
      "outputs": []
    },
    {
      "cell_type": "code",
      "source": [
        "history = model.fit([X_train, decoder_input_train], y_train_sparse,\n",
        "                    validation_data=([X_val, decoder_input_val], y_val_sparse),\n",
        "                    epochs=5,  # Adjust as needed\n",
        "                    batch_size=32)"
      ],
      "metadata": {
        "id": "85csh9VyBu6G"
      },
      "execution_count": null,
      "outputs": []
    },
    {
      "cell_type": "code",
      "source": [
        "from keras.models import Sequential, load_model\n",
        "import pickle\n",
        "#saving model\n",
        "model.save('/content/drive/MyDrive/path/Models/seq2seq_headline_generator/seq2seq_headline_generator.h5')\n",
        "with open('/content/drive/My Drive/path/Models/seq2seq_headline_generator/history.p', 'wb') as f:\n",
        "    pickle.dump(history.history, f)"
      ],
      "metadata": {
        "colab": {
          "base_uri": "https://localhost:8080/"
        },
        "id": "x9EsR7nAizNj",
        "outputId": "c5f63c55-828b-4124-d308-801b5b62d028"
      },
      "execution_count": null,
      "outputs": [
        {
          "output_type": "stream",
          "name": "stderr",
          "text": [
            "/usr/local/lib/python3.10/dist-packages/keras/src/engine/training.py:3079: UserWarning: You are saving your model as an HDF5 file via `model.save()`. This file format is considered legacy. We recommend using instead the native Keras format, e.g. `model.save('my_model.keras')`.\n",
            "  saving_api.save_model(\n"
          ]
        }
      ]
    },
    {
      "cell_type": "code",
      "execution_count": null,
      "metadata": {
        "colab": {
          "base_uri": "https://localhost:8080/"
        },
        "id": "0wk_iFz07GIr",
        "outputId": "385b818c-6f9e-4afc-ac9a-a13c6430bc5a"
      },
      "outputs": [
        {
          "output_type": "stream",
          "name": "stdout",
          "text": [
            "Mounted at /content/drive\n"
          ]
        }
      ],
      "source": [
        "from google.colab import drive\n",
        "drive.mount('/content/drive', force_remount=True)"
      ]
    },
    {
      "cell_type": "code",
      "source": [
        "import gdown\n",
        "import os,glob\n",
        "import pandas as pd\n",
        "from keras.utils import to_categorical\n",
        "from scipy import sparse\n",
        "import string\n",
        "import numpy as np\n",
        "import json\n",
        "import pandas as pd\n",
        "import re\n",
        "import string\n",
        "import nltk\n",
        "from nltk.corpus import stopwords\n",
        "from nltk.stem import WordNetLemmatizer\n",
        "from sklearn.model_selection import train_test_split\n",
        "import numpy as np\n",
        "from keras.utils import to_categorical\n",
        "from keras.preprocessing.sequence import pad_sequences\n",
        "from keras.layers import Embedding, LSTM, Dense, Dropout\n",
        "from keras.preprocessing.text import Tokenizer\n",
        "from keras.callbacks import EarlyStopping\n",
        "from keras.models import Sequential\n",
        "import keras.utils as ku\n",
        "import tensorflow as tf\n",
        "tf.random.set_seed(2)\n",
        "from numpy.random import seed\n",
        "seed(1)"
      ],
      "metadata": {
        "id": "vKIdY35l7JJG"
      },
      "execution_count": null,
      "outputs": []
    },
    {
      "cell_type": "code",
      "source": [
        "data_url = \"https://drive.google.com/drive/folders/1_RGwmjvW8p3jHuKqIbbHXdBDuDl2DTjU?usp=drive_link\""
      ],
      "metadata": {
        "id": "HinlvqOH7jv9"
      },
      "execution_count": null,
      "outputs": []
    },
    {
      "cell_type": "code",
      "source": [
        "gdown.download_folder (data_url, quiet=True, use_cookies=False)"
      ],
      "metadata": {
        "colab": {
          "base_uri": "https://localhost:8080/"
        },
        "id": "mBGscuMy7g3F",
        "outputId": "c1bec2a4-c37c-4c44-8965-a9f90a797ece"
      },
      "execution_count": null,
      "outputs": [
        {
          "output_type": "execute_result",
          "data": {
            "text/plain": [
              "['/content/Guardian News Articles/guardian_articles.csv']"
            ]
          },
          "metadata": {},
          "execution_count": 5
        }
      ]
    },
    {
      "cell_type": "code",
      "source": [
        "# Load dataset\n",
        "data_sample = pd.read_csv('/content/Guardian News Articles/guardian_articles.csv')\n",
        "\n",
        "# Using only 10% of the data\n",
        "data = data_sample.sample(frac=0.01, random_state=42)\n",
        "\n",
        "# Drop rows with missing values\n",
        "data.dropna(subset=['webTitle', 'bodyContent'], inplace=True)"
      ],
      "metadata": {
        "id": "tVIY5vNwBvBW"
      },
      "execution_count": null,
      "outputs": []
    },
    {
      "cell_type": "code",
      "source": [
        "# Download necessary NLTK data\n",
        "nltk.download('stopwords')\n",
        "nltk.download('wordnet')\n",
        "\n",
        "# Initialize the lemmatizer\n",
        "lemmatizer = WordNetLemmatizer()\n",
        "\n",
        "# Define a function for advanced text cleaning\n",
        "def clean_text(text):\n",
        "    # Convert text to lowercase\n",
        "    text = text.lower()\n",
        "\n",
        "    # Remove punctuation\n",
        "    text = re.sub(f\"[{string.punctuation}]\", \" \", text)\n",
        "\n",
        "    # Remove numbers\n",
        "    text = re.sub(r'\\d+', '', text)\n",
        "\n",
        "    # Remove extra spaces\n",
        "    text = re.sub(r'\\s+', ' ', text).strip()\n",
        "\n",
        "    # Tokenize text\n",
        "    tokens = text.split()\n",
        "\n",
        "    # Remove stopwords\n",
        "    tokens = [word for word in tokens if word not in stopwords.words('english')]\n",
        "\n",
        "    # Lemmatization\n",
        "    tokens = [lemmatizer.lemmatize(word) for word in tokens]\n",
        "\n",
        "    # Reconstruct the text from tokens\n",
        "    text = ' '.join(tokens)\n",
        "\n",
        "    return text\n",
        "\n",
        "# Apply advanced text preprocessing\n",
        "data['webTitle'] = data['webTitle'].apply(clean_text)\n",
        "data['bodyContent'] = data['bodyContent'].apply(clean_text)\n",
        "\n",
        "# Add <start> and <end> tokens to each headline\n",
        "data['webTitle'] = data['webTitle'].apply(lambda x: '<start> ' + x + ' <end>')"
      ],
      "metadata": {
        "colab": {
          "base_uri": "https://localhost:8080/"
        },
        "id": "1xm3KbhbG1R7",
        "outputId": "430d22cd-dfa7-4556-e8ec-fed122f8a5cd"
      },
      "execution_count": null,
      "outputs": [
        {
          "output_type": "stream",
          "name": "stderr",
          "text": [
            "[nltk_data] Downloading package stopwords to /root/nltk_data...\n",
            "[nltk_data]   Unzipping corpora/stopwords.zip.\n",
            "[nltk_data] Downloading package wordnet to /root/nltk_data...\n"
          ]
        }
      ]
    },
    {
      "cell_type": "code",
      "source": [
        "data['webTitle']"
      ],
      "metadata": {
        "colab": {
          "base_uri": "https://localhost:8080/"
        },
        "id": "X8QZB61IBUj9",
        "outputId": "577ae6b3-f0bc-4362-dabb-9752f4009aef"
      },
      "execution_count": null,
      "outputs": [
        {
          "output_type": "execute_result",
          "data": {
            "text/plain": [
              "118646    <start> demand tory mp scrap covid rule could ...\n",
              "124284    <start> really smart motorway would lower spee...\n",
              "141061    <start> ‘profiting suffering’ ap cancel sale m...\n",
              "80327     <start> school prison pipeline criminal justic...\n",
              "96867     <start> naked coronavirus tale desperation mad...\n",
              "                                ...                        \n",
              "140283    <start> uk new zealand sign free trade deal <end>\n",
              "110667    <start> crisis stage texas border city reel co...\n",
              "1812      <start> apple iphone sale projected stagnant q...\n",
              "91415      <start> woke gammon buzzword people coined <end>\n",
              "31590     <start> arsène wenger say arsenal fa cup win a...\n",
              "Name: webTitle, Length: 1486, dtype: object"
            ]
          },
          "metadata": {},
          "execution_count": 8
        }
      ]
    },
    {
      "cell_type": "code",
      "source": [
        "# Initialize tokenizer with a smaller vocabulary\n",
        "max_vocab_size = 50  # Adjust as needed\n",
        "tokenizer = Tokenizer(num_words=max_vocab_size)\n",
        "tokenizer.fit_on_texts(data['webTitle'])\n",
        "tokenizer.fit_on_texts(data['bodyContent'])\n",
        "\n",
        "# Convert texts to sequences\n",
        "sequences_body = tokenizer.texts_to_sequences(data['bodyContent'])\n",
        "sequences_title = tokenizer.texts_to_sequences(data['webTitle'])\n",
        "\n",
        "# Padding sequences\n",
        "body_padded = pad_sequences(sequences_body, maxlen=300)  # Adjust maxlen as per your data\n",
        "title_padded = pad_sequences(sequences_title, maxlen=30, padding='post')  # Adjust maxlen as per your data\n",
        "\n",
        "# Preparing decoder input\n",
        "title_padded_shifted = np.zeros_like(title_padded)\n",
        "title_padded_shifted[:, 1:] = title_padded[:, :-1]"
      ],
      "metadata": {
        "id": "i7WKnqyKFzib"
      },
      "execution_count": null,
      "outputs": []
    },
    {
      "cell_type": "code",
      "source": [
        "# Splitting data into training and validation sets\n",
        "X_train, X_val, title_train, title_val, decoder_input_train, decoder_input_val = train_test_split(\n",
        "    body_padded, title_padded, title_padded_shifted, test_size=0.2, random_state=42)"
      ],
      "metadata": {
        "id": "7YyvwRBig9YZ"
      },
      "execution_count": null,
      "outputs": []
    },
    {
      "cell_type": "code",
      "source": [
        "# Function to convert to sparse categorical\n",
        "def to_sparse_categorical(y, num_classes):\n",
        "    y_sparse = []\n",
        "    for sequence in y:\n",
        "        y_sparse_seq = np.zeros((len(sequence), num_classes))\n",
        "        for i, idx in enumerate(sequence):\n",
        "            if idx < num_classes:\n",
        "                y_sparse_seq[i, idx] = 1\n",
        "        y_sparse.append(y_sparse_seq)\n",
        "    return np.array(y_sparse)\n",
        "\n",
        "# Converting training and validation target data to sparse categorical\n",
        "num_classes = max_vocab_size + 1  # +1 for the padding token\n",
        "y_train_sparse = to_sparse_categorical(title_train, num_classes)\n",
        "y_val_sparse = to_sparse_categorical(title_val, num_classes)"
      ],
      "metadata": {
        "id": "1rHkd8E3kIDJ"
      },
      "execution_count": null,
      "outputs": []
    },
    {
      "cell_type": "code",
      "source": [
        "from keras.models import Model\n",
        "from keras.layers import Input, LSTM, Dense, Embedding, Concatenate, Bidirectional\n",
        "\n",
        "# Encoder\n",
        "encoder_inputs = Input(shape=(None,))\n",
        "encoder_embedding = Embedding(input_dim=max_vocab_size + 1, output_dim=128)\n",
        "encoder_lstm = Bidirectional(LSTM(128, return_state=True))\n",
        "encoder_outputs, forward_h, forward_c, backward_h, backward_c = encoder_lstm(encoder_embedding(encoder_inputs))\n",
        "state_h = Concatenate()([forward_h, backward_h])\n",
        "state_c = Concatenate()([forward_c, backward_c])\n",
        "encoder_states = [state_h, state_c]\n",
        "\n",
        "# Decoder\n",
        "decoder_inputs = Input(shape=(None,))\n",
        "decoder_embedding_layer = Embedding(input_dim=max_vocab_size + 1, output_dim=128)\n",
        "decoder_lstm = LSTM(256, return_sequences=True, return_state=True)\n",
        "decoder_dense = Dense(max_vocab_size + 1, activation='softmax')  # Correct number of units\n",
        "\n",
        "decoder_embedding = decoder_embedding_layer(decoder_inputs)\n",
        "decoder_outputs, _, _ = decoder_lstm(decoder_embedding, initial_state=encoder_states)\n",
        "decoder_outputs = decoder_dense(decoder_outputs)\n",
        "\n",
        "# Seq2Seq Model\n",
        "model = Model([encoder_inputs, decoder_inputs], decoder_outputs)\n",
        "\n",
        "# Compile the model\n",
        "model.compile(optimizer='adam', loss='categorical_crossentropy')\n"
      ],
      "metadata": {
        "id": "9o2K9j0OkIDJ"
      },
      "execution_count": null,
      "outputs": []
    },
    {
      "cell_type": "code",
      "source": [
        "model.summary()"
      ],
      "metadata": {
        "id": "tatjjlrAkIDJ"
      },
      "execution_count": null,
      "outputs": []
    },
    {
      "cell_type": "code",
      "source": [
        "history = model.fit([X_train, decoder_input_train], y_train_sparse,\n",
        "                    validation_data=([X_val, decoder_input_val], y_val_sparse),\n",
        "                    epochs=5,  # Adjust as needed\n",
        "                    batch_size=32)"
      ],
      "metadata": {
        "id": "0scruSA0kIDJ"
      },
      "execution_count": null,
      "outputs": []
    },
    {
      "cell_type": "code",
      "source": [
        "from keras.models import Sequential, load_model\n",
        "import pickle\n",
        "#saving model\n",
        "model.save('/content/drive/MyDrive/path/Models/seq2seq_headline_generator/seq2seq_headline_generator.h5')\n",
        "with open('/content/drive/My Drive/path/Models/seq2seq_headline_generator/history.p', 'wb') as f:\n",
        "    pickle.dump(history.history, f)"
      ],
      "metadata": {
        "colab": {
          "base_uri": "https://localhost:8080/"
        },
        "outputId": "c5f63c55-828b-4124-d308-801b5b62d028",
        "id": "dO0cHHOKkIDK"
      },
      "execution_count": null,
      "outputs": [
        {
          "output_type": "stream",
          "name": "stderr",
          "text": [
            "/usr/local/lib/python3.10/dist-packages/keras/src/engine/training.py:3079: UserWarning: You are saving your model as an HDF5 file via `model.save()`. This file format is considered legacy. We recommend using instead the native Keras format, e.g. `model.save('my_model.keras')`.\n",
            "  saving_api.save_model(\n"
          ]
        }
      ]
    },
    {
      "cell_type": "code",
      "source": [
        "from keras.models import load_model, Model\n",
        "import numpy as np\n",
        "\n",
        "# Load the trained model\n",
        "model = load_model('/content/drive/MyDrive/path/Models/seq2seq_headline_generator/seq2seq_headline_generator.h5')\n",
        "\n",
        "# Load the tokenizer\n",
        "with open('/content/drive/MyDrive/path/Models/seq2seq_headline_generator/tokenizer.pickle', 'rb') as handle:\n",
        "    tokenizer = pickle.load(handle)"
      ],
      "metadata": {
        "id": "c1wvPfTgslCA"
      },
      "execution_count": null,
      "outputs": []
    },
    {
      "cell_type": "code",
      "source": [
        "# Encoder Model\n",
        "encoder_model = Model(inputs=encoder_inputs, outputs=encoder_states)\n",
        "\n",
        "# Decoder Model setup\n",
        "decoder_state_input_h = Input(shape=(256,))\n",
        "decoder_state_input_c = Input(shape=(256,))\n",
        "decoder_states_inputs = [decoder_state_input_h, decoder_state_input_c]\n",
        "\n",
        "# Set up the decoder, using `decoder_states_inputs` as initial state\n",
        "decoder_outputs, state_h, state_c = decoder_lstm(decoder_embedding_layer(decoder_inputs), initial_state=decoder_states_inputs)\n",
        "decoder_states = [state_h, state_c]\n",
        "decoder_outputs = decoder_dense(decoder_outputs)\n",
        "\n",
        "# Final decoder model\n",
        "decoder_model = Model([decoder_inputs] + decoder_states_inputs, [decoder_outputs] + decoder_states)"
      ],
      "metadata": {
        "id": "zIh5JbuxBu0S"
      },
      "execution_count": null,
      "outputs": []
    },
    {
      "cell_type": "code",
      "source": [
        "def decode_sequence(input_seq):\n",
        "    # Encode the input as state vectors\n",
        "    states_value = encoder_model.predict(input_seq)\n",
        "\n",
        "    # Start with a sequence containing just the start token for the decoder\n",
        "    target_seq = np.zeros((1, 1))\n",
        "    target_seq[0, 0] = tokenizer.word_index['<start>']  # Assuming '<start>' is in the tokenizer\n",
        "\n",
        "\n",
        "    # Create the translation\n",
        "    stop_condition = False\n",
        "    decoded_sentence = ''\n",
        "    while not stop_condition:\n",
        "        output_tokens, h, c = decoder_model.predict([target_seq] + states_value)\n",
        "\n",
        "        # Sample a token and add the corresponding word to the decoded sentence\n",
        "        sampled_token_index = np.argmax(output_tokens[0, -1, :])\n",
        "        sampled_word = tokenizer.index_word[sampled_token_index]\n",
        "        decoded_sentence += ' ' + sampled_word\n",
        "\n",
        "        # Exit condition: either hit max length or find the stop token\n",
        "        if (sampled_word == '<end>' or len(decoded_sentence) > 50):  # Adjust max length as needed\n",
        "            stop_condition = True\n",
        "\n",
        "        # Update the target sequence (length 1)\n",
        "        target_seq = np.zeros((1, 1))\n",
        "        target_seq[0, 0] = sampled_token_index\n",
        "\n",
        "        # Update states\n",
        "        states_value = [h, c]\n",
        "\n",
        "    return decoded_sentence\n"
      ],
      "metadata": {
        "id": "BmeZSg44BuxY"
      },
      "execution_count": null,
      "outputs": []
    },
    {
      "cell_type": "code",
      "source": [
        "input_seq = X_train[0:1]  # Take one sequence from the training set\n",
        "input_seq"
      ],
      "metadata": {
        "colab": {
          "base_uri": "https://localhost:8080/"
        },
        "id": "EGA35MmSBut0",
        "outputId": "31994b27-6b81-4bfe-c99e-0dee2128aec7"
      },
      "execution_count": null,
      "outputs": [
        {
          "output_type": "execute_result",
          "data": {
            "text/plain": [
              "array([[   0,    0,    0,    0,    0,    0,    0,    0,    0,    0,    0,\n",
              "           0,    0,    0,    0,    0,    0,    0,    0,    0,    0,    0,\n",
              "           0,    0,    0,    0,    0,    0,    0,    0,    0,    0,    0,\n",
              "           0,    0,    0,    0,    0,    0,    0,    0,    0,    0,    0,\n",
              "           0,    0,    0,    0,    0,    0,    0,    0,    0,    0,    0,\n",
              "           0,    0,    0,    0,    0,    0,    0,    0,    0,    0,    0,\n",
              "           0,    0,    0,    0,    0,    0,    0,    0,    0,    0,    0,\n",
              "           0,    0,    0,    0,    0,    0,    0,    0,    0,    0,    0,\n",
              "           0,    0,    0,    0,    0,    0,    0,    0,    0,    0,    0,\n",
              "           0,    0,    0,    0,    0,    0,    0,    0,    0,    0,    0,\n",
              "           0,    0,    0,    0,    0,    0,    0,    0,    0,    0,    0,\n",
              "           0,    0,    0,    0,    0,    0,    0,    0,    0,    0,  592,\n",
              "           5, 3871,  869,    3, 4074, 1042,  162,  596,  406, 2993, 3871,\n",
              "          19,  748,  152,  817, 1769,    8, 2993,  415,    5,  745,  143,\n",
              "         587, 1193,  695,  407,  549,  293, 1535, 3019,  233,  698, 2177,\n",
              "          90, 1949, 4568,  417, 3979,  509, 3101,  481,  781,    1,  932,\n",
              "        3024,  592,  745,    3, 2169, 2404,  976,  721,  596, 1596,  345,\n",
              "        1817, 3822, 3817,  596,  463,  866,   91, 1388,  420, 3817,  592,\n",
              "         721,  431,  596,  608,  708,  497,  661, 4490, 3024,  592,   89,\n",
              "         792, 4184,  120,  535,    3,  592, 2455,  576,  949,  337, 1042,\n",
              "        1792, 3154,  254,  625, 2278,  769,  698,  346,  708,   25,  193,\n",
              "         698,    1,   66,  123,  150,  254, 4304,   51,  498,    5,   60,\n",
              "          45,   51, 2404,  393,   70,    7,  340,  395,  101,  305,  523,\n",
              "         500, 2278, 1020, 2589,  231,   45,   14,  777,  776, 1049, 4836,\n",
              "          52,   13,  771, 4915,  761,    1,  407, 1694,  207, 2082,  588,\n",
              "         879, 4979,    3,  592, 1520, 4036,  556,  932, 1070, 2404, 1194,\n",
              "         523, 1769,  524,  146,  868,  685, 2168, 2641,  320,  745,  463,\n",
              "         740,  789,    3]], dtype=int32)"
            ]
          },
          "metadata": {},
          "execution_count": 17
        }
      ]
    },
    {
      "cell_type": "code",
      "source": [
        "if '<start>' in tokenizer.word_index:\n",
        "    print(\"'<start>' token is in the tokenizer's word index.\")\n",
        "else:\n",
        "    print(\"'<start>' token is NOT in the tokenizer's word index.\")"
      ],
      "metadata": {
        "colab": {
          "base_uri": "https://localhost:8080/"
        },
        "id": "Hq8xfGv83_RJ",
        "outputId": "6d62dfe0-2465-43e3-fbcd-176596baa268"
      },
      "execution_count": null,
      "outputs": [
        {
          "output_type": "stream",
          "name": "stdout",
          "text": [
            "'<start>' token is NOT in the tokenizer's word index.\n"
          ]
        }
      ]
    },
    {
      "cell_type": "code",
      "source": [
        "print(list(tokenizer.word_index.items())[:50])  # Print first 50 entries of the tokenizer's word index"
      ],
      "metadata": {
        "colab": {
          "base_uri": "https://localhost:8080/"
        },
        "id": "6Jh5_xha4EVZ",
        "outputId": "19bc8fca-5dcf-4096-ae6d-b58d9e0634c2"
      },
      "execution_count": null,
      "outputs": [
        {
          "output_type": "stream",
          "name": "stdout",
          "text": [
            "[('”', 1), ('–', 2), ('said', 3), ('year', 4), ('one', 5), ('would', 6), ('people', 7), ('time', 8), ('end', 9), ('say', 10), ('new', 11), ('also', 12), ('start', 13), ('like', 14), ('u', 15), ('first', 16), ('it’s', 17), ('could', 18), ('two', 19), ('day', 20), ('last', 21), ('government', 22), ('make', 23), ('get', 24), ('way', 25), ('work', 26), ('back', 27), ('many', 28), ('even', 29), ('week', 30), ('world', 31), ('life', 32), ('uk', 33), ('may', 34), ('home', 35), ('right', 36), ('need', 37), ('made', 38), ('much', 39), ('take', 40), ('go', 41), ('“i', 42), ('still', 43), ('country', 44), ('thing', 45), ('well', 46), ('woman', 47), ('three', 48), ('think', 49), ('don’t', 50)]\n"
          ]
        }
      ]
    },
    {
      "cell_type": "code",
      "source": [
        "generated_headline = decode_sequence(input_seq)\n",
        "print(generated_headline)"
      ],
      "metadata": {
        "colab": {
          "base_uri": "https://localhost:8080/",
          "height": 331
        },
        "id": "nP3kfoDatijH",
        "outputId": "e163ec0e-a272-4371-bd1a-7672bddbd505"
      },
      "execution_count": null,
      "outputs": [
        {
          "output_type": "stream",
          "name": "stdout",
          "text": [
            "1/1 [==============================] - 0s 27ms/step\n"
          ]
        },
        {
          "output_type": "error",
          "ename": "KeyError",
          "evalue": "ignored",
          "traceback": [
            "\u001b[0;31m---------------------------------------------------------------------------\u001b[0m",
            "\u001b[0;31mKeyError\u001b[0m                                  Traceback (most recent call last)",
            "\u001b[0;32m<ipython-input-31-ad146301e1b7>\u001b[0m in \u001b[0;36m<cell line: 1>\u001b[0;34m()\u001b[0m\n\u001b[0;32m----> 1\u001b[0;31m \u001b[0mgenerated_headline\u001b[0m \u001b[0;34m=\u001b[0m \u001b[0mdecode_sequence\u001b[0m\u001b[0;34m(\u001b[0m\u001b[0minput_seq\u001b[0m\u001b[0;34m)\u001b[0m\u001b[0;34m\u001b[0m\u001b[0;34m\u001b[0m\u001b[0m\n\u001b[0m\u001b[1;32m      2\u001b[0m \u001b[0mprint\u001b[0m\u001b[0;34m(\u001b[0m\u001b[0mgenerated_headline\u001b[0m\u001b[0;34m)\u001b[0m\u001b[0;34m\u001b[0m\u001b[0;34m\u001b[0m\u001b[0m\n",
            "\u001b[0;32m<ipython-input-29-f99c6bf2b219>\u001b[0m in \u001b[0;36mdecode_sequence\u001b[0;34m(input_seq)\u001b[0m\n\u001b[1;32m      8\u001b[0m         \u001b[0mtarget_seq\u001b[0m\u001b[0;34m[\u001b[0m\u001b[0;36m0\u001b[0m\u001b[0;34m,\u001b[0m \u001b[0;36m0\u001b[0m\u001b[0;34m]\u001b[0m \u001b[0;34m=\u001b[0m \u001b[0mtokenizer\u001b[0m\u001b[0;34m.\u001b[0m\u001b[0mword_index\u001b[0m\u001b[0;34m[\u001b[0m\u001b[0;34m'<start>'\u001b[0m\u001b[0;34m]\u001b[0m\u001b[0;34m\u001b[0m\u001b[0;34m\u001b[0m\u001b[0m\n\u001b[1;32m      9\u001b[0m     \u001b[0;32melse\u001b[0m\u001b[0;34m:\u001b[0m\u001b[0;34m\u001b[0m\u001b[0;34m\u001b[0m\u001b[0m\n\u001b[0;32m---> 10\u001b[0;31m         \u001b[0;32mraise\u001b[0m \u001b[0mKeyError\u001b[0m\u001b[0;34m(\u001b[0m\u001b[0;34m\"'<start>' token not found in tokenizer's word index.\"\u001b[0m\u001b[0;34m)\u001b[0m\u001b[0;34m\u001b[0m\u001b[0;34m\u001b[0m\u001b[0m\n\u001b[0m\u001b[1;32m     11\u001b[0m \u001b[0;34m\u001b[0m\u001b[0m\n\u001b[1;32m     12\u001b[0m     \u001b[0;31m# Create the translation\u001b[0m\u001b[0;34m\u001b[0m\u001b[0;34m\u001b[0m\u001b[0m\n",
            "\u001b[0;31mKeyError\u001b[0m: \"'<start>' token not found in tokenizer's word index.\""
          ]
        }
      ]
    }
  ]
}