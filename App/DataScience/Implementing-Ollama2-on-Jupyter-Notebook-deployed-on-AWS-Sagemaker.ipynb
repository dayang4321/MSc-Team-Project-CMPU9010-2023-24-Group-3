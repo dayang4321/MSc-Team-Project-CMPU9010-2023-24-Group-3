{
 "cells": [
  {
   "cell_type": "code",
   "execution_count": 1,
   "id": "20f835d3",
   "metadata": {},
   "outputs": [
    {
     "name": "stdout",
     "output_type": "stream",
     "text": [
      "  % Total    % Received % Xferd  Average Speed   Time    Time     Time  Current\n",
      "                                 Dload  Upload   Total   Spent    Left  Speed\n",
      "100  7902    0  7902    0     0  28337      0 --:--:-- --:--:-- --:--:-- 28424\n",
      ">>> Downloading ollama...\n",
      "######################################################################## 100.0%###########################            87.4%\n",
      ">>> Installing ollama to /usr/local/bin...\n",
      ">>> Adding current user to ollama group...\n",
      ">>> Creating ollama systemd service...\n",
      ">>> Enabling and starting ollama service...\n",
      ">>> NVIDIA GPU installed.\n"
     ]
    }
   ],
   "source": [
    "!curl https://ollama.ai/install.sh | sh"
   ]
  },
  {
   "cell_type": "code",
   "execution_count": null,
   "id": "26985246",
   "metadata": {},
   "outputs": [],
   "source": [
    "!curl http://localhost:11434/api/generate -d '{ \"model\": \"llama2\", \"prompt\": \"Why is the sky blue?\", \"stream\": false, \"raw\": true }'"
   ]
  },
  {
   "cell_type": "code",
   "execution_count": null,
   "id": "120b7569",
   "metadata": {},
   "outputs": [],
   "source": []
  }
 ],
 "metadata": {
  "kernelspec": {
   "display_name": "conda_python3",
   "language": "python",
   "name": "conda_python3"
  },
  "language_info": {
   "codemirror_mode": {
    "name": "ipython",
    "version": 3
   },
   "file_extension": ".py",
   "mimetype": "text/x-python",
   "name": "python",
   "nbconvert_exporter": "python",
   "pygments_lexer": "ipython3",
   "version": "3.10.13"
  }
 },
 "nbformat": 4,
 "nbformat_minor": 5
}
